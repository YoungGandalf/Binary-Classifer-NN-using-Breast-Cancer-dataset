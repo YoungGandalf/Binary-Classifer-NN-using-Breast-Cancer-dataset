{
  "nbformat": 4,
  "nbformat_minor": 0,
  "metadata": {
    "kernelspec": {
      "display_name": "Python 3",
      "language": "python",
      "name": "python3"
    },
    "language_info": {
      "codemirror_mode": {
        "name": "ipython",
        "version": 3
      },
      "file_extension": ".py",
      "mimetype": "text/x-python",
      "name": "python",
      "nbconvert_exporter": "python",
      "pygments_lexer": "ipython3",
      "version": "3.7.5"
    },
    "colab": {
      "name": "Hereth_5_0.ipynb",
      "provenance": [],
      "collapsed_sections": []
    }
  },
  "cells": [
    {
      "cell_type": "markdown",
      "metadata": {
        "id": "EYaDeKnitYqv"
      },
      "source": [
        "# CMSC471 - Artificial Intelligence - Spring 2020\n",
        "# <font color=\"blue\"> Assignment 5: Classification and Regression Using NN in Tensorflow</font>"
      ]
    },
    {
      "cell_type": "markdown",
      "metadata": {
        "id": "HqBW-OQvtYqw"
      },
      "source": [
        "Adam Hereth WU63616"
      ]
    },
    {
      "cell_type": "markdown",
      "metadata": {
        "id": "O7c5Tn4GtYqx"
      },
      "source": [
        "## Overview and Learning Objectives"
      ]
    },
    {
      "cell_type": "markdown",
      "metadata": {
        "id": "INQ4AhJMtYqx"
      },
      "source": [
        "In Part I of this assignment, you are going to build a neural network for binary classification. \n",
        "\n",
        "In Part II, you will build a NN for regression.\n",
        "\n",
        "<b>Note: </b>As you work through this assignment, you are recommended to check the textbook examples, notebooks and tensorflow documentations.\n",
        "\n",
        "Pedagogically, this assignment will help you:\n",
        "- better understand classification and regression using Neural Networks.\n",
        "\n",
        "- practice implementing NNs in Tensorflow and Keras."
      ]
    },
    {
      "cell_type": "markdown",
      "metadata": {
        "id": "kMSIiwMJtYqy"
      },
      "source": [
        "## Part I - Classification Using NN in Tensorflow"
      ]
    },
    {
      "cell_type": "markdown",
      "metadata": {
        "id": "LNKjCYq4tYqy"
      },
      "source": [
        "You're going to build a binary classifier NN to predict disease, i.e. \"diagnosis\".\n",
        "\n",
        "The first thing to do is downloading [the breast cancer dataset](https://github.com/fereydoonvafaei/CMSC471-Spring2020/blob/master/Assignment-5/breast_cancer.csv) and save it in the same working directory as your notebook.\n",
        "\n",
        "Read the feature specifications in [Kaggle page](https://www.kaggle.com/uciml/breast-cancer-wisconsin-data/data) to learn more about the data."
      ]
    },
    {
      "cell_type": "markdown",
      "metadata": {
        "id": "_AsLGl0LtYqz"
      },
      "source": [
        "## <font color=\"red\"> Required Coding"
      ]
    },
    {
      "cell_type": "code",
      "metadata": {
        "id": "0LY5T_uotYq0",
        "colab": {
          "base_uri": "https://localhost:8080/",
          "height": 34
        },
        "outputId": "196723cb-c0d8-4f0f-c44b-8cb3403de4b8"
      },
      "source": [
        "# Import necessary modules from python, tensorflow and keras\n",
        "# NOTE: As you work through the notebook, keep adding any required module here if necessary\n",
        "...\n",
        "import pandas as pd\n",
        "import numpy as np\n",
        "import os\n",
        "\n",
        "import pandas\n",
        "from keras.models import Sequential\n",
        "from keras.layers import Dense\n",
        "from sklearn.model_selection import train_test_split\n",
        "\n",
        "from sklearn.model_selection import cross_val_score\n",
        "import sklearn.metrics as metrics\n",
        "\n",
        "import tensorflow as tf\n",
        "from tensorflow import keras\n",
        "\n",
        "import matplotlib.pyplot as plt\n",
        "%matplotlib inline\n",
        "\n",
        "import warnings\n",
        "warnings.filterwarnings(\"ignore\")"
      ],
      "execution_count": null,
      "outputs": [
        {
          "output_type": "stream",
          "text": [
            "Using TensorFlow backend.\n"
          ],
          "name": "stderr"
        }
      ]
    },
    {
      "cell_type": "code",
      "metadata": {
        "id": "9fs6Z7abtYq4",
        "colab": {
          "base_uri": "https://localhost:8080/",
          "height": 51
        },
        "outputId": "6abf9529-54f8-47bb-889c-cbc0dbd91ac1"
      },
      "source": [
        "print(\"tf Version: \", tf.__version__)\n",
        "print(\"Eager Execution mode: \", tf.executing_eagerly())"
      ],
      "execution_count": null,
      "outputs": [
        {
          "output_type": "stream",
          "text": [
            "tf Version:  2.2.0\n",
            "Eager Execution mode:  True\n"
          ],
          "name": "stdout"
        }
      ]
    },
    {
      "cell_type": "markdown",
      "metadata": {
        "id": "Vr33--ARtYq7"
      },
      "source": [
        "> Next, load the data with pandas. The data (csv file) should be stored in the same working directory as your notebook."
      ]
    },
    {
      "cell_type": "code",
      "metadata": {
        "id": "QAwts9oGtYq8",
        "colab": {
          "base_uri": "https://localhost:8080/",
          "height": 241
        },
        "outputId": "1f59b63e-a77e-4680-ef69-5fbf628e7dab"
      },
      "source": [
        "# Load dataset using pd\n",
        "...\n",
        "url = 'https://raw.githubusercontent.com/fereydoonvafaei/CMSC471-Spring2020/master/Assignment-5/breast_cancer.csv'\n",
        "df1 = pd.read_csv(url)\n",
        "data = df1\n",
        "# Show the first five rows\n",
        "data.head()"
      ],
      "execution_count": null,
      "outputs": [
        {
          "output_type": "execute_result",
          "data": {
            "text/html": [
              "<div>\n",
              "<style scoped>\n",
              "    .dataframe tbody tr th:only-of-type {\n",
              "        vertical-align: middle;\n",
              "    }\n",
              "\n",
              "    .dataframe tbody tr th {\n",
              "        vertical-align: top;\n",
              "    }\n",
              "\n",
              "    .dataframe thead th {\n",
              "        text-align: right;\n",
              "    }\n",
              "</style>\n",
              "<table border=\"1\" class=\"dataframe\">\n",
              "  <thead>\n",
              "    <tr style=\"text-align: right;\">\n",
              "      <th></th>\n",
              "      <th>id</th>\n",
              "      <th>diagnosis</th>\n",
              "      <th>radius_mean</th>\n",
              "      <th>texture_mean</th>\n",
              "      <th>perimeter_mean</th>\n",
              "      <th>area_mean</th>\n",
              "      <th>smoothness_mean</th>\n",
              "      <th>compactness_mean</th>\n",
              "      <th>concavity_mean</th>\n",
              "      <th>concave points_mean</th>\n",
              "      <th>symmetry_mean</th>\n",
              "      <th>fractal_dimension_mean</th>\n",
              "      <th>radius_se</th>\n",
              "      <th>texture_se</th>\n",
              "      <th>perimeter_se</th>\n",
              "      <th>area_se</th>\n",
              "      <th>smoothness_se</th>\n",
              "      <th>compactness_se</th>\n",
              "      <th>concavity_se</th>\n",
              "      <th>concave points_se</th>\n",
              "      <th>symmetry_se</th>\n",
              "      <th>fractal_dimension_se</th>\n",
              "      <th>radius_worst</th>\n",
              "      <th>texture_worst</th>\n",
              "      <th>perimeter_worst</th>\n",
              "      <th>area_worst</th>\n",
              "      <th>smoothness_worst</th>\n",
              "      <th>compactness_worst</th>\n",
              "      <th>concavity_worst</th>\n",
              "      <th>concave points_worst</th>\n",
              "      <th>symmetry_worst</th>\n",
              "      <th>fractal_dimension_worst</th>\n",
              "    </tr>\n",
              "  </thead>\n",
              "  <tbody>\n",
              "    <tr>\n",
              "      <th>0</th>\n",
              "      <td>842302</td>\n",
              "      <td>M</td>\n",
              "      <td>17.99</td>\n",
              "      <td>10.38</td>\n",
              "      <td>122.80</td>\n",
              "      <td>1001.0</td>\n",
              "      <td>0.11840</td>\n",
              "      <td>0.27760</td>\n",
              "      <td>0.3001</td>\n",
              "      <td>0.14710</td>\n",
              "      <td>0.2419</td>\n",
              "      <td>0.07871</td>\n",
              "      <td>1.0950</td>\n",
              "      <td>0.9053</td>\n",
              "      <td>8.589</td>\n",
              "      <td>153.40</td>\n",
              "      <td>0.006399</td>\n",
              "      <td>0.04904</td>\n",
              "      <td>0.05373</td>\n",
              "      <td>0.01587</td>\n",
              "      <td>0.03003</td>\n",
              "      <td>0.006193</td>\n",
              "      <td>25.38</td>\n",
              "      <td>17.33</td>\n",
              "      <td>184.60</td>\n",
              "      <td>2019.0</td>\n",
              "      <td>0.1622</td>\n",
              "      <td>0.6656</td>\n",
              "      <td>0.7119</td>\n",
              "      <td>0.2654</td>\n",
              "      <td>0.4601</td>\n",
              "      <td>0.11890</td>\n",
              "    </tr>\n",
              "    <tr>\n",
              "      <th>1</th>\n",
              "      <td>842517</td>\n",
              "      <td>M</td>\n",
              "      <td>20.57</td>\n",
              "      <td>17.77</td>\n",
              "      <td>132.90</td>\n",
              "      <td>1326.0</td>\n",
              "      <td>0.08474</td>\n",
              "      <td>0.07864</td>\n",
              "      <td>0.0869</td>\n",
              "      <td>0.07017</td>\n",
              "      <td>0.1812</td>\n",
              "      <td>0.05667</td>\n",
              "      <td>0.5435</td>\n",
              "      <td>0.7339</td>\n",
              "      <td>3.398</td>\n",
              "      <td>74.08</td>\n",
              "      <td>0.005225</td>\n",
              "      <td>0.01308</td>\n",
              "      <td>0.01860</td>\n",
              "      <td>0.01340</td>\n",
              "      <td>0.01389</td>\n",
              "      <td>0.003532</td>\n",
              "      <td>24.99</td>\n",
              "      <td>23.41</td>\n",
              "      <td>158.80</td>\n",
              "      <td>1956.0</td>\n",
              "      <td>0.1238</td>\n",
              "      <td>0.1866</td>\n",
              "      <td>0.2416</td>\n",
              "      <td>0.1860</td>\n",
              "      <td>0.2750</td>\n",
              "      <td>0.08902</td>\n",
              "    </tr>\n",
              "    <tr>\n",
              "      <th>2</th>\n",
              "      <td>84300903</td>\n",
              "      <td>M</td>\n",
              "      <td>19.69</td>\n",
              "      <td>21.25</td>\n",
              "      <td>130.00</td>\n",
              "      <td>1203.0</td>\n",
              "      <td>0.10960</td>\n",
              "      <td>0.15990</td>\n",
              "      <td>0.1974</td>\n",
              "      <td>0.12790</td>\n",
              "      <td>0.2069</td>\n",
              "      <td>0.05999</td>\n",
              "      <td>0.7456</td>\n",
              "      <td>0.7869</td>\n",
              "      <td>4.585</td>\n",
              "      <td>94.03</td>\n",
              "      <td>0.006150</td>\n",
              "      <td>0.04006</td>\n",
              "      <td>0.03832</td>\n",
              "      <td>0.02058</td>\n",
              "      <td>0.02250</td>\n",
              "      <td>0.004571</td>\n",
              "      <td>23.57</td>\n",
              "      <td>25.53</td>\n",
              "      <td>152.50</td>\n",
              "      <td>1709.0</td>\n",
              "      <td>0.1444</td>\n",
              "      <td>0.4245</td>\n",
              "      <td>0.4504</td>\n",
              "      <td>0.2430</td>\n",
              "      <td>0.3613</td>\n",
              "      <td>0.08758</td>\n",
              "    </tr>\n",
              "    <tr>\n",
              "      <th>3</th>\n",
              "      <td>84348301</td>\n",
              "      <td>M</td>\n",
              "      <td>11.42</td>\n",
              "      <td>20.38</td>\n",
              "      <td>77.58</td>\n",
              "      <td>386.1</td>\n",
              "      <td>0.14250</td>\n",
              "      <td>0.28390</td>\n",
              "      <td>0.2414</td>\n",
              "      <td>0.10520</td>\n",
              "      <td>0.2597</td>\n",
              "      <td>0.09744</td>\n",
              "      <td>0.4956</td>\n",
              "      <td>1.1560</td>\n",
              "      <td>3.445</td>\n",
              "      <td>27.23</td>\n",
              "      <td>0.009110</td>\n",
              "      <td>0.07458</td>\n",
              "      <td>0.05661</td>\n",
              "      <td>0.01867</td>\n",
              "      <td>0.05963</td>\n",
              "      <td>0.009208</td>\n",
              "      <td>14.91</td>\n",
              "      <td>26.50</td>\n",
              "      <td>98.87</td>\n",
              "      <td>567.7</td>\n",
              "      <td>0.2098</td>\n",
              "      <td>0.8663</td>\n",
              "      <td>0.6869</td>\n",
              "      <td>0.2575</td>\n",
              "      <td>0.6638</td>\n",
              "      <td>0.17300</td>\n",
              "    </tr>\n",
              "    <tr>\n",
              "      <th>4</th>\n",
              "      <td>84358402</td>\n",
              "      <td>M</td>\n",
              "      <td>20.29</td>\n",
              "      <td>14.34</td>\n",
              "      <td>135.10</td>\n",
              "      <td>1297.0</td>\n",
              "      <td>0.10030</td>\n",
              "      <td>0.13280</td>\n",
              "      <td>0.1980</td>\n",
              "      <td>0.10430</td>\n",
              "      <td>0.1809</td>\n",
              "      <td>0.05883</td>\n",
              "      <td>0.7572</td>\n",
              "      <td>0.7813</td>\n",
              "      <td>5.438</td>\n",
              "      <td>94.44</td>\n",
              "      <td>0.011490</td>\n",
              "      <td>0.02461</td>\n",
              "      <td>0.05688</td>\n",
              "      <td>0.01885</td>\n",
              "      <td>0.01756</td>\n",
              "      <td>0.005115</td>\n",
              "      <td>22.54</td>\n",
              "      <td>16.67</td>\n",
              "      <td>152.20</td>\n",
              "      <td>1575.0</td>\n",
              "      <td>0.1374</td>\n",
              "      <td>0.2050</td>\n",
              "      <td>0.4000</td>\n",
              "      <td>0.1625</td>\n",
              "      <td>0.2364</td>\n",
              "      <td>0.07678</td>\n",
              "    </tr>\n",
              "  </tbody>\n",
              "</table>\n",
              "</div>"
            ],
            "text/plain": [
              "         id diagnosis  ...  symmetry_worst  fractal_dimension_worst\n",
              "0    842302         M  ...          0.4601                  0.11890\n",
              "1    842517         M  ...          0.2750                  0.08902\n",
              "2  84300903         M  ...          0.3613                  0.08758\n",
              "3  84348301         M  ...          0.6638                  0.17300\n",
              "4  84358402         M  ...          0.2364                  0.07678\n",
              "\n",
              "[5 rows x 32 columns]"
            ]
          },
          "metadata": {
            "tags": []
          },
          "execution_count": 3
        }
      ]
    },
    {
      "cell_type": "markdown",
      "metadata": {
        "id": "MrbGX6s3tYq_"
      },
      "source": [
        "### Preprocessing"
      ]
    },
    {
      "cell_type": "markdown",
      "metadata": {
        "id": "fikDATUBtYq_"
      },
      "source": [
        "> Check if there is any null or na in the data."
      ]
    },
    {
      "cell_type": "code",
      "metadata": {
        "id": "E9BY5clMtYrA",
        "colab": {
          "base_uri": "https://localhost:8080/",
          "height": 1000
        },
        "outputId": "e8967c2c-d48b-492b-cfb9-dc67146dc727"
      },
      "source": [
        "print(data.isnull().sum())\n",
        "data.isna().sum()"
      ],
      "execution_count": null,
      "outputs": [
        {
          "output_type": "stream",
          "text": [
            "id                         0\n",
            "diagnosis                  0\n",
            "radius_mean                0\n",
            "texture_mean               0\n",
            "perimeter_mean             0\n",
            "area_mean                  0\n",
            "smoothness_mean            0\n",
            "compactness_mean           0\n",
            "concavity_mean             0\n",
            "concave points_mean        0\n",
            "symmetry_mean              0\n",
            "fractal_dimension_mean     0\n",
            "radius_se                  0\n",
            "texture_se                 0\n",
            "perimeter_se               0\n",
            "area_se                    0\n",
            "smoothness_se              0\n",
            "compactness_se             0\n",
            "concavity_se               0\n",
            "concave points_se          0\n",
            "symmetry_se                0\n",
            "fractal_dimension_se       0\n",
            "radius_worst               0\n",
            "texture_worst              0\n",
            "perimeter_worst            0\n",
            "area_worst                 0\n",
            "smoothness_worst           0\n",
            "compactness_worst          0\n",
            "concavity_worst            0\n",
            "concave points_worst       0\n",
            "symmetry_worst             0\n",
            "fractal_dimension_worst    0\n",
            "dtype: int64\n"
          ],
          "name": "stdout"
        },
        {
          "output_type": "execute_result",
          "data": {
            "text/plain": [
              "id                         0\n",
              "diagnosis                  0\n",
              "radius_mean                0\n",
              "texture_mean               0\n",
              "perimeter_mean             0\n",
              "area_mean                  0\n",
              "smoothness_mean            0\n",
              "compactness_mean           0\n",
              "concavity_mean             0\n",
              "concave points_mean        0\n",
              "symmetry_mean              0\n",
              "fractal_dimension_mean     0\n",
              "radius_se                  0\n",
              "texture_se                 0\n",
              "perimeter_se               0\n",
              "area_se                    0\n",
              "smoothness_se              0\n",
              "compactness_se             0\n",
              "concavity_se               0\n",
              "concave points_se          0\n",
              "symmetry_se                0\n",
              "fractal_dimension_se       0\n",
              "radius_worst               0\n",
              "texture_worst              0\n",
              "perimeter_worst            0\n",
              "area_worst                 0\n",
              "smoothness_worst           0\n",
              "compactness_worst          0\n",
              "concavity_worst            0\n",
              "concave points_worst       0\n",
              "symmetry_worst             0\n",
              "fractal_dimension_worst    0\n",
              "dtype: int64"
            ]
          },
          "metadata": {
            "tags": []
          },
          "execution_count": 4
        }
      ]
    },
    {
      "cell_type": "markdown",
      "metadata": {
        "id": "Gxvno2pktYrC"
      },
      "source": [
        "> Also, the first column `id` doesn't seem to provide any useful info to ML model, so drop it."
      ]
    },
    {
      "cell_type": "code",
      "metadata": {
        "id": "BYZRIHV0tYrD",
        "colab": {
          "base_uri": "https://localhost:8080/",
          "height": 34
        },
        "outputId": "73b17340-3340-4a5a-d58d-28f5e7dca04e"
      },
      "source": [
        "len(data['id'].unique())"
      ],
      "execution_count": null,
      "outputs": [
        {
          "output_type": "execute_result",
          "data": {
            "text/plain": [
              "569"
            ]
          },
          "metadata": {
            "tags": []
          },
          "execution_count": 5
        }
      ]
    },
    {
      "cell_type": "code",
      "metadata": {
        "id": "55-clUsgtYrH",
        "colab": {
          "base_uri": "https://localhost:8080/",
          "height": 255
        },
        "outputId": "c209ae7d-e70c-4818-9bae-6e56f2cb36f2"
      },
      "source": [
        "# drop \"id\"\n",
        "...\n",
        "data.drop('id', axis=1, inplace=True)\n",
        "print(data)"
      ],
      "execution_count": null,
      "outputs": [
        {
          "output_type": "stream",
          "text": [
            "    diagnosis  radius_mean  ...  symmetry_worst  fractal_dimension_worst\n",
            "0           M        17.99  ...          0.4601                  0.11890\n",
            "1           M        20.57  ...          0.2750                  0.08902\n",
            "2           M        19.69  ...          0.3613                  0.08758\n",
            "3           M        11.42  ...          0.6638                  0.17300\n",
            "4           M        20.29  ...          0.2364                  0.07678\n",
            "..        ...          ...  ...             ...                      ...\n",
            "564         M        21.56  ...          0.2060                  0.07115\n",
            "565         M        20.13  ...          0.2572                  0.06637\n",
            "566         M        16.60  ...          0.2218                  0.07820\n",
            "567         M        20.60  ...          0.4087                  0.12400\n",
            "568         B         7.76  ...          0.2871                  0.07039\n",
            "\n",
            "[569 rows x 31 columns]\n"
          ],
          "name": "stdout"
        }
      ]
    },
    {
      "cell_type": "markdown",
      "metadata": {
        "id": "-5BoGdGPtYrK"
      },
      "source": [
        "> Now, you can extract features and labels from `data`. Your classifier should attempt to predict `diagnosis` so that is your target/label column."
      ]
    },
    {
      "cell_type": "code",
      "metadata": {
        "id": "fDq-wDdotYrK"
      },
      "source": [
        "# Organize data to feature vector X and label vector y\n",
        "X = data.drop(columns = ['diagnosis'])\n",
        "y = data['diagnosis']"
      ],
      "execution_count": null,
      "outputs": []
    },
    {
      "cell_type": "code",
      "metadata": {
        "id": "n8EciMmAtYrM",
        "colab": {
          "base_uri": "https://localhost:8080/",
          "height": 51
        },
        "outputId": "cd711a2f-af5b-4ca8-b128-6c9bb861846b"
      },
      "source": [
        "print(\"Features shape: \", X.shape)\n",
        "print(\"Labels shape: \", y.shape)"
      ],
      "execution_count": null,
      "outputs": [
        {
          "output_type": "stream",
          "text": [
            "Features shape:  (569, 30)\n",
            "Labels shape:  (569,)\n"
          ],
          "name": "stdout"
        }
      ]
    },
    {
      "cell_type": "markdown",
      "metadata": {
        "id": "9KN7vEyItYrP"
      },
      "source": [
        "> Your `X` dataframe now only contains features, hence has 30 columns whereas `y` has now become a 1D vector containing labels only. Notice that `y` has 569 labels equal to the number of data records in the feature vector."
      ]
    },
    {
      "cell_type": "code",
      "metadata": {
        "id": "6ccaWVjGtYrP",
        "colab": {
          "base_uri": "https://localhost:8080/",
          "height": 241
        },
        "outputId": "727a4e97-d02a-4496-ca87-5bf5da0af9e8"
      },
      "source": [
        "# X should no longer contain the diagnosis which is target/label column - i.e. the column to be predicted\n",
        "X.head()"
      ],
      "execution_count": null,
      "outputs": [
        {
          "output_type": "execute_result",
          "data": {
            "text/html": [
              "<div>\n",
              "<style scoped>\n",
              "    .dataframe tbody tr th:only-of-type {\n",
              "        vertical-align: middle;\n",
              "    }\n",
              "\n",
              "    .dataframe tbody tr th {\n",
              "        vertical-align: top;\n",
              "    }\n",
              "\n",
              "    .dataframe thead th {\n",
              "        text-align: right;\n",
              "    }\n",
              "</style>\n",
              "<table border=\"1\" class=\"dataframe\">\n",
              "  <thead>\n",
              "    <tr style=\"text-align: right;\">\n",
              "      <th></th>\n",
              "      <th>radius_mean</th>\n",
              "      <th>texture_mean</th>\n",
              "      <th>perimeter_mean</th>\n",
              "      <th>area_mean</th>\n",
              "      <th>smoothness_mean</th>\n",
              "      <th>compactness_mean</th>\n",
              "      <th>concavity_mean</th>\n",
              "      <th>concave points_mean</th>\n",
              "      <th>symmetry_mean</th>\n",
              "      <th>fractal_dimension_mean</th>\n",
              "      <th>radius_se</th>\n",
              "      <th>texture_se</th>\n",
              "      <th>perimeter_se</th>\n",
              "      <th>area_se</th>\n",
              "      <th>smoothness_se</th>\n",
              "      <th>compactness_se</th>\n",
              "      <th>concavity_se</th>\n",
              "      <th>concave points_se</th>\n",
              "      <th>symmetry_se</th>\n",
              "      <th>fractal_dimension_se</th>\n",
              "      <th>radius_worst</th>\n",
              "      <th>texture_worst</th>\n",
              "      <th>perimeter_worst</th>\n",
              "      <th>area_worst</th>\n",
              "      <th>smoothness_worst</th>\n",
              "      <th>compactness_worst</th>\n",
              "      <th>concavity_worst</th>\n",
              "      <th>concave points_worst</th>\n",
              "      <th>symmetry_worst</th>\n",
              "      <th>fractal_dimension_worst</th>\n",
              "    </tr>\n",
              "  </thead>\n",
              "  <tbody>\n",
              "    <tr>\n",
              "      <th>0</th>\n",
              "      <td>17.99</td>\n",
              "      <td>10.38</td>\n",
              "      <td>122.80</td>\n",
              "      <td>1001.0</td>\n",
              "      <td>0.11840</td>\n",
              "      <td>0.27760</td>\n",
              "      <td>0.3001</td>\n",
              "      <td>0.14710</td>\n",
              "      <td>0.2419</td>\n",
              "      <td>0.07871</td>\n",
              "      <td>1.0950</td>\n",
              "      <td>0.9053</td>\n",
              "      <td>8.589</td>\n",
              "      <td>153.40</td>\n",
              "      <td>0.006399</td>\n",
              "      <td>0.04904</td>\n",
              "      <td>0.05373</td>\n",
              "      <td>0.01587</td>\n",
              "      <td>0.03003</td>\n",
              "      <td>0.006193</td>\n",
              "      <td>25.38</td>\n",
              "      <td>17.33</td>\n",
              "      <td>184.60</td>\n",
              "      <td>2019.0</td>\n",
              "      <td>0.1622</td>\n",
              "      <td>0.6656</td>\n",
              "      <td>0.7119</td>\n",
              "      <td>0.2654</td>\n",
              "      <td>0.4601</td>\n",
              "      <td>0.11890</td>\n",
              "    </tr>\n",
              "    <tr>\n",
              "      <th>1</th>\n",
              "      <td>20.57</td>\n",
              "      <td>17.77</td>\n",
              "      <td>132.90</td>\n",
              "      <td>1326.0</td>\n",
              "      <td>0.08474</td>\n",
              "      <td>0.07864</td>\n",
              "      <td>0.0869</td>\n",
              "      <td>0.07017</td>\n",
              "      <td>0.1812</td>\n",
              "      <td>0.05667</td>\n",
              "      <td>0.5435</td>\n",
              "      <td>0.7339</td>\n",
              "      <td>3.398</td>\n",
              "      <td>74.08</td>\n",
              "      <td>0.005225</td>\n",
              "      <td>0.01308</td>\n",
              "      <td>0.01860</td>\n",
              "      <td>0.01340</td>\n",
              "      <td>0.01389</td>\n",
              "      <td>0.003532</td>\n",
              "      <td>24.99</td>\n",
              "      <td>23.41</td>\n",
              "      <td>158.80</td>\n",
              "      <td>1956.0</td>\n",
              "      <td>0.1238</td>\n",
              "      <td>0.1866</td>\n",
              "      <td>0.2416</td>\n",
              "      <td>0.1860</td>\n",
              "      <td>0.2750</td>\n",
              "      <td>0.08902</td>\n",
              "    </tr>\n",
              "    <tr>\n",
              "      <th>2</th>\n",
              "      <td>19.69</td>\n",
              "      <td>21.25</td>\n",
              "      <td>130.00</td>\n",
              "      <td>1203.0</td>\n",
              "      <td>0.10960</td>\n",
              "      <td>0.15990</td>\n",
              "      <td>0.1974</td>\n",
              "      <td>0.12790</td>\n",
              "      <td>0.2069</td>\n",
              "      <td>0.05999</td>\n",
              "      <td>0.7456</td>\n",
              "      <td>0.7869</td>\n",
              "      <td>4.585</td>\n",
              "      <td>94.03</td>\n",
              "      <td>0.006150</td>\n",
              "      <td>0.04006</td>\n",
              "      <td>0.03832</td>\n",
              "      <td>0.02058</td>\n",
              "      <td>0.02250</td>\n",
              "      <td>0.004571</td>\n",
              "      <td>23.57</td>\n",
              "      <td>25.53</td>\n",
              "      <td>152.50</td>\n",
              "      <td>1709.0</td>\n",
              "      <td>0.1444</td>\n",
              "      <td>0.4245</td>\n",
              "      <td>0.4504</td>\n",
              "      <td>0.2430</td>\n",
              "      <td>0.3613</td>\n",
              "      <td>0.08758</td>\n",
              "    </tr>\n",
              "    <tr>\n",
              "      <th>3</th>\n",
              "      <td>11.42</td>\n",
              "      <td>20.38</td>\n",
              "      <td>77.58</td>\n",
              "      <td>386.1</td>\n",
              "      <td>0.14250</td>\n",
              "      <td>0.28390</td>\n",
              "      <td>0.2414</td>\n",
              "      <td>0.10520</td>\n",
              "      <td>0.2597</td>\n",
              "      <td>0.09744</td>\n",
              "      <td>0.4956</td>\n",
              "      <td>1.1560</td>\n",
              "      <td>3.445</td>\n",
              "      <td>27.23</td>\n",
              "      <td>0.009110</td>\n",
              "      <td>0.07458</td>\n",
              "      <td>0.05661</td>\n",
              "      <td>0.01867</td>\n",
              "      <td>0.05963</td>\n",
              "      <td>0.009208</td>\n",
              "      <td>14.91</td>\n",
              "      <td>26.50</td>\n",
              "      <td>98.87</td>\n",
              "      <td>567.7</td>\n",
              "      <td>0.2098</td>\n",
              "      <td>0.8663</td>\n",
              "      <td>0.6869</td>\n",
              "      <td>0.2575</td>\n",
              "      <td>0.6638</td>\n",
              "      <td>0.17300</td>\n",
              "    </tr>\n",
              "    <tr>\n",
              "      <th>4</th>\n",
              "      <td>20.29</td>\n",
              "      <td>14.34</td>\n",
              "      <td>135.10</td>\n",
              "      <td>1297.0</td>\n",
              "      <td>0.10030</td>\n",
              "      <td>0.13280</td>\n",
              "      <td>0.1980</td>\n",
              "      <td>0.10430</td>\n",
              "      <td>0.1809</td>\n",
              "      <td>0.05883</td>\n",
              "      <td>0.7572</td>\n",
              "      <td>0.7813</td>\n",
              "      <td>5.438</td>\n",
              "      <td>94.44</td>\n",
              "      <td>0.011490</td>\n",
              "      <td>0.02461</td>\n",
              "      <td>0.05688</td>\n",
              "      <td>0.01885</td>\n",
              "      <td>0.01756</td>\n",
              "      <td>0.005115</td>\n",
              "      <td>22.54</td>\n",
              "      <td>16.67</td>\n",
              "      <td>152.20</td>\n",
              "      <td>1575.0</td>\n",
              "      <td>0.1374</td>\n",
              "      <td>0.2050</td>\n",
              "      <td>0.4000</td>\n",
              "      <td>0.1625</td>\n",
              "      <td>0.2364</td>\n",
              "      <td>0.07678</td>\n",
              "    </tr>\n",
              "  </tbody>\n",
              "</table>\n",
              "</div>"
            ],
            "text/plain": [
              "   radius_mean  texture_mean  ...  symmetry_worst  fractal_dimension_worst\n",
              "0        17.99         10.38  ...          0.4601                  0.11890\n",
              "1        20.57         17.77  ...          0.2750                  0.08902\n",
              "2        19.69         21.25  ...          0.3613                  0.08758\n",
              "3        11.42         20.38  ...          0.6638                  0.17300\n",
              "4        20.29         14.34  ...          0.2364                  0.07678\n",
              "\n",
              "[5 rows x 30 columns]"
            ]
          },
          "metadata": {
            "tags": []
          },
          "execution_count": 9
        }
      ]
    },
    {
      "cell_type": "code",
      "metadata": {
        "id": "q0xQWY1otYrS",
        "colab": {
          "base_uri": "https://localhost:8080/",
          "height": 119
        },
        "outputId": "9392da94-b987-4967-d888-8b5997469220"
      },
      "source": [
        "# y should only contain diagnosis - target/label column\n",
        "y.head()"
      ],
      "execution_count": null,
      "outputs": [
        {
          "output_type": "execute_result",
          "data": {
            "text/plain": [
              "0    M\n",
              "1    M\n",
              "2    M\n",
              "3    M\n",
              "4    M\n",
              "Name: diagnosis, dtype: object"
            ]
          },
          "metadata": {
            "tags": []
          },
          "execution_count": 10
        }
      ]
    },
    {
      "cell_type": "code",
      "metadata": {
        "id": "mbz5AdFutYrU",
        "colab": {
          "base_uri": "https://localhost:8080/",
          "height": 34
        },
        "outputId": "fa3c970a-aef9-4886-e987-d3f37d1aa25a"
      },
      "source": [
        "y.unique()"
      ],
      "execution_count": null,
      "outputs": [
        {
          "output_type": "execute_result",
          "data": {
            "text/plain": [
              "array(['M', 'B'], dtype=object)"
            ]
          },
          "metadata": {
            "tags": []
          },
          "execution_count": 11
        }
      ]
    },
    {
      "cell_type": "markdown",
      "metadata": {
        "id": "7KwLABPDtYrX"
      },
      "source": [
        "> The two classes (aka labels) here are `M` and `B` representing `malignant` and `benign` which refers to the tumors you are going to classify. You need to represent them by `1` and `0` respectively. In other words, to use sklearn classifiers and score metrics, you need to convert the categorical lables."
      ]
    },
    {
      "cell_type": "code",
      "metadata": {
        "id": "U4Bgw_V5tYrY"
      },
      "source": [
        "# Encoding categorical labels M and B to 1 and 0\n",
        "from sklearn.preprocessing import LabelEncoder\n",
        "labelencoder_y = LabelEncoder()\n",
        "y = labelencoder_y.fit_transform(y)"
      ],
      "execution_count": null,
      "outputs": []
    },
    {
      "cell_type": "markdown",
      "metadata": {
        "id": "X1_om7EMtYra"
      },
      "source": [
        "> When you have multiple features with different scales/ranges, you should consider standardizing them. There are different ways to standardize and to normalize the feature vector. One convenient way is using scikit-learn modules."
      ]
    },
    {
      "cell_type": "code",
      "metadata": {
        "id": "4Ymsn1b5tYrb",
        "colab": {
          "base_uri": "https://localhost:8080/",
          "height": 238
        },
        "outputId": "62b9d89c-aeaa-488c-a6db-d828310b4d05"
      },
      "source": [
        "# Feature Scaling\n",
        "from sklearn.preprocessing import StandardScaler\n",
        "sc = StandardScaler()\n",
        "X = sc.fit_transform(X)\n",
        "X"
      ],
      "execution_count": null,
      "outputs": [
        {
          "output_type": "execute_result",
          "data": {
            "text/plain": [
              "array([[ 1.09706398, -2.07333501,  1.26993369, ...,  2.29607613,\n",
              "         2.75062224,  1.93701461],\n",
              "       [ 1.82982061, -0.35363241,  1.68595471, ...,  1.0870843 ,\n",
              "        -0.24388967,  0.28118999],\n",
              "       [ 1.57988811,  0.45618695,  1.56650313, ...,  1.95500035,\n",
              "         1.152255  ,  0.20139121],\n",
              "       ...,\n",
              "       [ 0.70228425,  2.0455738 ,  0.67267578, ...,  0.41406869,\n",
              "        -1.10454895, -0.31840916],\n",
              "       [ 1.83834103,  2.33645719,  1.98252415, ...,  2.28998549,\n",
              "         1.91908301,  2.21963528],\n",
              "       [-1.80840125,  1.22179204, -1.81438851, ..., -1.74506282,\n",
              "        -0.04813821, -0.75120669]])"
            ]
          },
          "metadata": {
            "tags": []
          },
          "execution_count": 13
        }
      ]
    },
    {
      "cell_type": "code",
      "metadata": {
        "id": "zM8TKMDstYrd",
        "colab": {
          "base_uri": "https://localhost:8080/",
          "height": 85
        },
        "outputId": "a46a2f2a-e15d-4b0a-cb92-d9f8949db7b2"
      },
      "source": [
        "# Split the data to training set and testing set\n",
        "...\n",
        "X_train,X_test,y_train,y_test = train_test_split(X,y,test_size=0.30)\n",
        "# Check the shapes of X_train, X_test, y_train, y_test\n",
        "print(\"X_train shape: \", X_train.shape)\n",
        "print(\"y_train shape: \", y_train.shape)\n",
        "print(\"X_test shape: \", X_test.shape)\n",
        "print(\"y_test shape: \", y_test.shape)"
      ],
      "execution_count": null,
      "outputs": [
        {
          "output_type": "stream",
          "text": [
            "X_train shape:  (398, 30)\n",
            "y_train shape:  (398,)\n",
            "X_test shape:  (171, 30)\n",
            "y_test shape:  (171,)\n"
          ],
          "name": "stdout"
        }
      ]
    },
    {
      "cell_type": "markdown",
      "metadata": {
        "id": "Pl5ya2xBtYrg"
      },
      "source": [
        "### Building NN for Binary Classification"
      ]
    },
    {
      "cell_type": "markdown",
      "metadata": {
        "id": "2Ukq3JIbtYrg"
      },
      "source": [
        "> Now, you should build a binary classifier NN that can predict diagnosis.\n",
        "\n",
        "> You can begin with a simple neural network with a couple of hidden layers, and increase number of hidden layers and neurons as needed. You may also use callback and early stopping to find the optimal number of epochs, but it's possible to obtain the minimum required accuracy (0.97) within 20 epochs only.\n",
        "\n",
        "> **Hint-1**: During training, despite some variations, you should see a clear trend of descending loss and increasing accuracy; otherwise, your model has not been developed properly.\n",
        "\n",
        "> **Hint-2**: Every time you want to train your network, you should start running the following cell to start with a fresh NN and to clear the previously trained weights. Otherwise, your results are not accurate."
      ]
    },
    {
      "cell_type": "code",
      "metadata": {
        "id": "_9azAlcstYrh"
      },
      "source": [
        "# Build a sequential NN with appropriate layers for binary classification of diagnosis\n",
        "# Use ReLU for all hidden layers\n",
        "\n",
        "layer_0 = tf.keras.layers.Dense(units=1, input_shape=[30], activation='relu')\n",
        "nn_clf = tf.keras.Sequential([\n",
        "    # Add layers accordingly\n",
        "    layer_0\n",
        "    ])\n"
      ],
      "execution_count": null,
      "outputs": []
    },
    {
      "cell_type": "code",
      "metadata": {
        "id": "lUhgWZbwtYrj",
        "colab": {
          "base_uri": "https://localhost:8080/",
          "height": 187
        },
        "outputId": "e4164703-6f55-4ed2-d9e3-b593a3da7063"
      },
      "source": [
        "nn_clf.summary()"
      ],
      "execution_count": null,
      "outputs": [
        {
          "output_type": "stream",
          "text": [
            "Model: \"sequential\"\n",
            "_________________________________________________________________\n",
            "Layer (type)                 Output Shape              Param #   \n",
            "=================================================================\n",
            "dense (Dense)                (None, 1)                 31        \n",
            "=================================================================\n",
            "Total params: 31\n",
            "Trainable params: 31\n",
            "Non-trainable params: 0\n",
            "_________________________________________________________________\n"
          ],
          "name": "stdout"
        }
      ]
    },
    {
      "cell_type": "markdown",
      "metadata": {
        "id": "oW1et0H_tYrl"
      },
      "source": [
        "> Next, you should compile your `nn_clf`."
      ]
    },
    {
      "cell_type": "code",
      "metadata": {
        "id": "S5dySqvntYrl"
      },
      "source": [
        "# Compile nn_clf with loss='binary_crossentropy' and metrics=['accuracy']\n",
        "...\n",
        "nn_clf.compile(optimizer=keras.optimizers.Adadelta(learning_rate=140), loss='binary_crossentropy', metrics=['accuracy'])"
      ],
      "execution_count": null,
      "outputs": []
    },
    {
      "cell_type": "markdown",
      "metadata": {
        "id": "_VM9wc7vtYro"
      },
      "source": [
        "> Train the model using `fit()` method."
      ]
    },
    {
      "cell_type": "code",
      "metadata": {
        "id": "FBNd7tTOtYrp",
        "colab": {
          "base_uri": "https://localhost:8080/",
          "height": 697
        },
        "outputId": "2ead10ab-fdb0-4035-ea39-33c17792d5a0"
      },
      "source": [
        "# Train nn_clf on X_train and y_train with 20 epochs\n",
        "nn_clf_history = nn_clf.fit(X_train, y_train, epochs=20)"
      ],
      "execution_count": null,
      "outputs": [
        {
          "output_type": "stream",
          "text": [
            "Epoch 1/20\n",
            "13/13 [==============================] - 0s 1ms/step - loss: 1.7506 - accuracy: 0.8467\n",
            "Epoch 2/20\n",
            "13/13 [==============================] - 0s 1ms/step - loss: 0.4619 - accuracy: 0.9472\n",
            "Epoch 3/20\n",
            "13/13 [==============================] - 0s 1ms/step - loss: 0.3021 - accuracy: 0.9598\n",
            "Epoch 4/20\n",
            "13/13 [==============================] - 0s 1ms/step - loss: 0.2124 - accuracy: 0.9774\n",
            "Epoch 5/20\n",
            "13/13 [==============================] - 0s 1ms/step - loss: 0.2482 - accuracy: 0.9724\n",
            "Epoch 6/20\n",
            "13/13 [==============================] - 0s 1ms/step - loss: 0.2101 - accuracy: 0.9799\n",
            "Epoch 7/20\n",
            "13/13 [==============================] - 0s 1ms/step - loss: 1.3110 - accuracy: 0.8995\n",
            "Epoch 8/20\n",
            "13/13 [==============================] - 0s 1ms/step - loss: 0.2425 - accuracy: 0.9774\n",
            "Epoch 9/20\n",
            "13/13 [==============================] - 0s 1ms/step - loss: 0.2043 - accuracy: 0.9824\n",
            "Epoch 10/20\n",
            "13/13 [==============================] - 0s 1ms/step - loss: 0.4026 - accuracy: 0.9698\n",
            "Epoch 11/20\n",
            "13/13 [==============================] - 0s 1ms/step - loss: 0.3238 - accuracy: 0.9724\n",
            "Epoch 12/20\n",
            "13/13 [==============================] - 0s 1ms/step - loss: 0.1706 - accuracy: 0.9824\n",
            "Epoch 13/20\n",
            "13/13 [==============================] - 0s 1ms/step - loss: 0.2810 - accuracy: 0.9799\n",
            "Epoch 14/20\n",
            "13/13 [==============================] - 0s 1ms/step - loss: 0.2777 - accuracy: 0.9799\n",
            "Epoch 15/20\n",
            "13/13 [==============================] - 0s 1ms/step - loss: 0.2500 - accuracy: 0.9799\n",
            "Epoch 16/20\n",
            "13/13 [==============================] - 0s 1ms/step - loss: 0.3567 - accuracy: 0.9724\n",
            "Epoch 17/20\n",
            "13/13 [==============================] - 0s 2ms/step - loss: 0.3178 - accuracy: 0.9749\n",
            "Epoch 18/20\n",
            "13/13 [==============================] - 0s 1ms/step - loss: 0.3097 - accuracy: 0.9799\n",
            "Epoch 19/20\n",
            "13/13 [==============================] - 0s 1ms/step - loss: 0.3092 - accuracy: 0.9799\n",
            "Epoch 20/20\n",
            "13/13 [==============================] - 0s 1ms/step - loss: 0.3092 - accuracy: 0.9799\n"
          ],
          "name": "stdout"
        }
      ]
    },
    {
      "cell_type": "markdown",
      "metadata": {
        "id": "XlBKPDoFtYrr"
      },
      "source": [
        "> Next, plot the history of train."
      ]
    },
    {
      "cell_type": "code",
      "metadata": {
        "id": "Q9FSiXx8tYrs",
        "colab": {
          "base_uri": "https://localhost:8080/",
          "height": 341
        },
        "outputId": "57998c86-1996-486a-839e-84796da2e220"
      },
      "source": [
        "pd.DataFrame(nn_clf_history.history).plot(figsize=(10, 5))\n",
        "plt.grid(True)\n",
        "\n",
        "# Set the xticks - label locations\n",
        "plt.xticks(np.arange(0, 20, step=2))  \n",
        "\n",
        "# set the y-axis range to [0-1]\n",
        "plt.gca().set_ylim(0, 1) "
      ],
      "execution_count": null,
      "outputs": [
        {
          "output_type": "execute_result",
          "data": {
            "text/plain": [
              "(0.0, 1.0)"
            ]
          },
          "metadata": {
            "tags": []
          },
          "execution_count": 19
        },
        {
          "output_type": "display_data",
          "data": {
            "image/png": "[encoded data removed]",
            "text/plain": [
              "<Figure size 720x360 with 1 Axes>"
            ]
          },
          "metadata": {
            "tags": [],
            "needs_background": "light"
          }
        }
      ]
    },
    {
      "cell_type": "markdown",
      "metadata": {
        "id": "s9fTluQCtYrt"
      },
      "source": [
        "> To evaluate the model, you use `evaluate()` method.\n",
        "\n",
        "> <font color='red'>**Minimum Accuracy Requirement**</font>: Your accuracy on `X_test` and `y_test` must be at least **0.97**. Otherwise, your notebook will get NO CREDIT for this part, so you must fine-tune your `nn_clf` accordingly."
      ]
    },
    {
      "cell_type": "code",
      "metadata": {
        "id": "BCrAFgoTtYru",
        "colab": {
          "base_uri": "https://localhost:8080/",
          "height": 34
        },
        "outputId": "70d414f5-138e-4082-ad07-7b975f023a85"
      },
      "source": [
        "# Evaluate the model on X_test and y_test\n",
        "loss, accuracy = nn_clf.evaluate(X_test, y_test)"
      ],
      "execution_count": null,
      "outputs": [
        {
          "output_type": "stream",
          "text": [
            "6/6 [==============================] - 0s 1ms/step - loss: 0.2820 - accuracy: 0.9708\n"
          ],
          "name": "stdout"
        }
      ]
    },
    {
      "cell_type": "code",
      "metadata": {
        "id": "OTw0LzN-tYrw",
        "colab": {
          "base_uri": "https://localhost:8080/",
          "height": 34
        },
        "outputId": "3c100fb1-b07e-4d5e-8ad6-f2fff69e4554"
      },
      "source": [
        "# Minimum Required Accuracy: 0.97\n",
        "round(accuracy, 2)"
      ],
      "execution_count": null,
      "outputs": [
        {
          "output_type": "execute_result",
          "data": {
            "text/plain": [
              "0.97"
            ]
          },
          "metadata": {
            "tags": []
          },
          "execution_count": 21
        }
      ]
    },
    {
      "cell_type": "markdown",
      "metadata": {
        "id": "Rg8JtbzNtYrz"
      },
      "source": [
        "## Part II - Regression Using NN in Tensorflow"
      ]
    },
    {
      "cell_type": "markdown",
      "metadata": {
        "id": "yxexN8EXtYrz"
      },
      "source": [
        "In this part, you build a regression model for prediction of video game sales using NN."
      ]
    },
    {
      "cell_type": "markdown",
      "metadata": {
        "id": "dq4PlzRNtYr0"
      },
      "source": [
        "You can download the dataset directly from [here](https://github.com/fereydoonvafaei/CMSC471-Spring2020/blob/master/Assignment-5/video-games.csv).\n",
        "\n",
        "The description of the dataset you're going to work on can be seen [here](https://www.kaggle.com/rush4ratio/video-game-sales-with-ratings). You are going to use the features to predict video game sales in Europe `EU_Sales`.\n",
        "\n",
        "Follow the instructions for loading the data, and preprocessing very carefully. Even though preprocessing has 10 points only, if you don't do it correctly, your whole results would be wrong."
      ]
    },
    {
      "cell_type": "markdown",
      "metadata": {
        "id": "7z4KHsa9tYr0"
      },
      "source": [
        "## <font color=\"red\"> Required Coding"
      ]
    },
    {
      "cell_type": "code",
      "metadata": {
        "id": "3uv2MvCetYr1",
        "colab": {
          "base_uri": "https://localhost:8080/",
          "height": 309
        },
        "outputId": "9f950b8a-4a51-439b-952c-157d8cecebc7"
      },
      "source": [
        "# Load the data as a dataframe using pandas\n",
        "game_data = pd.read_csv('https://raw.githubusercontent.com/fereydoonvafaei/CMSC471-Spring2020/master/Assignment-5/video-games.csv')\n",
        "print(game_data.shape)\n",
        "game_data.head()"
      ],
      "execution_count": null,
      "outputs": [
        {
          "output_type": "stream",
          "text": [
            "(16719, 16)\n"
          ],
          "name": "stdout"
        },
        {
          "output_type": "execute_result",
          "data": {
            "text/html": [
              "<div>\n",
              "<style scoped>\n",
              "    .dataframe tbody tr th:only-of-type {\n",
              "        vertical-align: middle;\n",
              "    }\n",
              "\n",
              "    .dataframe tbody tr th {\n",
              "        vertical-align: top;\n",
              "    }\n",
              "\n",
              "    .dataframe thead th {\n",
              "        text-align: right;\n",
              "    }\n",
              "</style>\n",
              "<table border=\"1\" class=\"dataframe\">\n",
              "  <thead>\n",
              "    <tr style=\"text-align: right;\">\n",
              "      <th></th>\n",
              "      <th>Name</th>\n",
              "      <th>Platform</th>\n",
              "      <th>Year_of_Release</th>\n",
              "      <th>Genre</th>\n",
              "      <th>Publisher</th>\n",
              "      <th>NA_Sales</th>\n",
              "      <th>EU_Sales</th>\n",
              "      <th>JP_Sales</th>\n",
              "      <th>Other_Sales</th>\n",
              "      <th>Global_Sales</th>\n",
              "      <th>Critic_Score</th>\n",
              "      <th>Critic_Count</th>\n",
              "      <th>User_Score</th>\n",
              "      <th>User_Count</th>\n",
              "      <th>Developer</th>\n",
              "      <th>Rating</th>\n",
              "    </tr>\n",
              "  </thead>\n",
              "  <tbody>\n",
              "    <tr>\n",
              "      <th>0</th>\n",
              "      <td>Wii Sports</td>\n",
              "      <td>Wii</td>\n",
              "      <td>2006.0</td>\n",
              "      <td>Sports</td>\n",
              "      <td>Nintendo</td>\n",
              "      <td>41.36</td>\n",
              "      <td>28.96</td>\n",
              "      <td>3.77</td>\n",
              "      <td>8.45</td>\n",
              "      <td>82.53</td>\n",
              "      <td>76.0</td>\n",
              "      <td>51.0</td>\n",
              "      <td>8</td>\n",
              "      <td>322.0</td>\n",
              "      <td>Nintendo</td>\n",
              "      <td>E</td>\n",
              "    </tr>\n",
              "    <tr>\n",
              "      <th>1</th>\n",
              "      <td>Super Mario Bros.</td>\n",
              "      <td>NES</td>\n",
              "      <td>1985.0</td>\n",
              "      <td>Platform</td>\n",
              "      <td>Nintendo</td>\n",
              "      <td>29.08</td>\n",
              "      <td>3.58</td>\n",
              "      <td>6.81</td>\n",
              "      <td>0.77</td>\n",
              "      <td>40.24</td>\n",
              "      <td>NaN</td>\n",
              "      <td>NaN</td>\n",
              "      <td>NaN</td>\n",
              "      <td>NaN</td>\n",
              "      <td>NaN</td>\n",
              "      <td>NaN</td>\n",
              "    </tr>\n",
              "    <tr>\n",
              "      <th>2</th>\n",
              "      <td>Mario Kart Wii</td>\n",
              "      <td>Wii</td>\n",
              "      <td>2008.0</td>\n",
              "      <td>Racing</td>\n",
              "      <td>Nintendo</td>\n",
              "      <td>15.68</td>\n",
              "      <td>12.76</td>\n",
              "      <td>3.79</td>\n",
              "      <td>3.29</td>\n",
              "      <td>35.52</td>\n",
              "      <td>82.0</td>\n",
              "      <td>73.0</td>\n",
              "      <td>8.3</td>\n",
              "      <td>709.0</td>\n",
              "      <td>Nintendo</td>\n",
              "      <td>E</td>\n",
              "    </tr>\n",
              "    <tr>\n",
              "      <th>3</th>\n",
              "      <td>Wii Sports Resort</td>\n",
              "      <td>Wii</td>\n",
              "      <td>2009.0</td>\n",
              "      <td>Sports</td>\n",
              "      <td>Nintendo</td>\n",
              "      <td>15.61</td>\n",
              "      <td>10.93</td>\n",
              "      <td>3.28</td>\n",
              "      <td>2.95</td>\n",
              "      <td>32.77</td>\n",
              "      <td>80.0</td>\n",
              "      <td>73.0</td>\n",
              "      <td>8</td>\n",
              "      <td>192.0</td>\n",
              "      <td>Nintendo</td>\n",
              "      <td>E</td>\n",
              "    </tr>\n",
              "    <tr>\n",
              "      <th>4</th>\n",
              "      <td>Pokemon Red/Pokemon Blue</td>\n",
              "      <td>GB</td>\n",
              "      <td>1996.0</td>\n",
              "      <td>Role-Playing</td>\n",
              "      <td>Nintendo</td>\n",
              "      <td>11.27</td>\n",
              "      <td>8.89</td>\n",
              "      <td>10.22</td>\n",
              "      <td>1.00</td>\n",
              "      <td>31.37</td>\n",
              "      <td>NaN</td>\n",
              "      <td>NaN</td>\n",
              "      <td>NaN</td>\n",
              "      <td>NaN</td>\n",
              "      <td>NaN</td>\n",
              "      <td>NaN</td>\n",
              "    </tr>\n",
              "  </tbody>\n",
              "</table>\n",
              "</div>"
            ],
            "text/plain": [
              "                       Name Platform  ...  Developer Rating\n",
              "0                Wii Sports      Wii  ...   Nintendo      E\n",
              "1         Super Mario Bros.      NES  ...        NaN    NaN\n",
              "2            Mario Kart Wii      Wii  ...   Nintendo      E\n",
              "3         Wii Sports Resort      Wii  ...   Nintendo      E\n",
              "4  Pokemon Red/Pokemon Blue       GB  ...        NaN    NaN\n",
              "\n",
              "[5 rows x 16 columns]"
            ]
          },
          "metadata": {
            "tags": []
          },
          "execution_count": 22
        }
      ]
    },
    {
      "cell_type": "code",
      "metadata": {
        "id": "gSuut_ATtYr2",
        "colab": {
          "base_uri": "https://localhost:8080/",
          "height": 394
        },
        "outputId": "722aa956-db69-4db1-9499-c49d62a968eb"
      },
      "source": [
        "# Drop NAs\n",
        "game_data = game_data.dropna()\n",
        "print(game_data.shape)\n",
        "game_data.head()"
      ],
      "execution_count": null,
      "outputs": [
        {
          "output_type": "stream",
          "text": [
            "(6825, 16)\n"
          ],
          "name": "stdout"
        },
        {
          "output_type": "execute_result",
          "data": {
            "text/html": [
              "<div>\n",
              "<style scoped>\n",
              "    .dataframe tbody tr th:only-of-type {\n",
              "        vertical-align: middle;\n",
              "    }\n",
              "\n",
              "    .dataframe tbody tr th {\n",
              "        vertical-align: top;\n",
              "    }\n",
              "\n",
              "    .dataframe thead th {\n",
              "        text-align: right;\n",
              "    }\n",
              "</style>\n",
              "<table border=\"1\" class=\"dataframe\">\n",
              "  <thead>\n",
              "    <tr style=\"text-align: right;\">\n",
              "      <th></th>\n",
              "      <th>Name</th>\n",
              "      <th>Platform</th>\n",
              "      <th>Year_of_Release</th>\n",
              "      <th>Genre</th>\n",
              "      <th>Publisher</th>\n",
              "      <th>NA_Sales</th>\n",
              "      <th>EU_Sales</th>\n",
              "      <th>JP_Sales</th>\n",
              "      <th>Other_Sales</th>\n",
              "      <th>Global_Sales</th>\n",
              "      <th>Critic_Score</th>\n",
              "      <th>Critic_Count</th>\n",
              "      <th>User_Score</th>\n",
              "      <th>User_Count</th>\n",
              "      <th>Developer</th>\n",
              "      <th>Rating</th>\n",
              "    </tr>\n",
              "  </thead>\n",
              "  <tbody>\n",
              "    <tr>\n",
              "      <th>0</th>\n",
              "      <td>Wii Sports</td>\n",
              "      <td>Wii</td>\n",
              "      <td>2006.0</td>\n",
              "      <td>Sports</td>\n",
              "      <td>Nintendo</td>\n",
              "      <td>41.36</td>\n",
              "      <td>28.96</td>\n",
              "      <td>3.77</td>\n",
              "      <td>8.45</td>\n",
              "      <td>82.53</td>\n",
              "      <td>76.0</td>\n",
              "      <td>51.0</td>\n",
              "      <td>8</td>\n",
              "      <td>322.0</td>\n",
              "      <td>Nintendo</td>\n",
              "      <td>E</td>\n",
              "    </tr>\n",
              "    <tr>\n",
              "      <th>2</th>\n",
              "      <td>Mario Kart Wii</td>\n",
              "      <td>Wii</td>\n",
              "      <td>2008.0</td>\n",
              "      <td>Racing</td>\n",
              "      <td>Nintendo</td>\n",
              "      <td>15.68</td>\n",
              "      <td>12.76</td>\n",
              "      <td>3.79</td>\n",
              "      <td>3.29</td>\n",
              "      <td>35.52</td>\n",
              "      <td>82.0</td>\n",
              "      <td>73.0</td>\n",
              "      <td>8.3</td>\n",
              "      <td>709.0</td>\n",
              "      <td>Nintendo</td>\n",
              "      <td>E</td>\n",
              "    </tr>\n",
              "    <tr>\n",
              "      <th>3</th>\n",
              "      <td>Wii Sports Resort</td>\n",
              "      <td>Wii</td>\n",
              "      <td>2009.0</td>\n",
              "      <td>Sports</td>\n",
              "      <td>Nintendo</td>\n",
              "      <td>15.61</td>\n",
              "      <td>10.93</td>\n",
              "      <td>3.28</td>\n",
              "      <td>2.95</td>\n",
              "      <td>32.77</td>\n",
              "      <td>80.0</td>\n",
              "      <td>73.0</td>\n",
              "      <td>8</td>\n",
              "      <td>192.0</td>\n",
              "      <td>Nintendo</td>\n",
              "      <td>E</td>\n",
              "    </tr>\n",
              "    <tr>\n",
              "      <th>6</th>\n",
              "      <td>New Super Mario Bros.</td>\n",
              "      <td>DS</td>\n",
              "      <td>2006.0</td>\n",
              "      <td>Platform</td>\n",
              "      <td>Nintendo</td>\n",
              "      <td>11.28</td>\n",
              "      <td>9.14</td>\n",
              "      <td>6.50</td>\n",
              "      <td>2.88</td>\n",
              "      <td>29.80</td>\n",
              "      <td>89.0</td>\n",
              "      <td>65.0</td>\n",
              "      <td>8.5</td>\n",
              "      <td>431.0</td>\n",
              "      <td>Nintendo</td>\n",
              "      <td>E</td>\n",
              "    </tr>\n",
              "    <tr>\n",
              "      <th>7</th>\n",
              "      <td>Wii Play</td>\n",
              "      <td>Wii</td>\n",
              "      <td>2006.0</td>\n",
              "      <td>Misc</td>\n",
              "      <td>Nintendo</td>\n",
              "      <td>13.96</td>\n",
              "      <td>9.18</td>\n",
              "      <td>2.93</td>\n",
              "      <td>2.84</td>\n",
              "      <td>28.92</td>\n",
              "      <td>58.0</td>\n",
              "      <td>41.0</td>\n",
              "      <td>6.6</td>\n",
              "      <td>129.0</td>\n",
              "      <td>Nintendo</td>\n",
              "      <td>E</td>\n",
              "    </tr>\n",
              "  </tbody>\n",
              "</table>\n",
              "</div>"
            ],
            "text/plain": [
              "                    Name Platform  Year_of_Release  ... User_Count Developer  Rating\n",
              "0             Wii Sports      Wii           2006.0  ...      322.0  Nintendo       E\n",
              "2         Mario Kart Wii      Wii           2008.0  ...      709.0  Nintendo       E\n",
              "3      Wii Sports Resort      Wii           2009.0  ...      192.0  Nintendo       E\n",
              "6  New Super Mario Bros.       DS           2006.0  ...      431.0  Nintendo       E\n",
              "7               Wii Play      Wii           2006.0  ...      129.0  Nintendo       E\n",
              "\n",
              "[5 rows x 16 columns]"
            ]
          },
          "metadata": {
            "tags": []
          },
          "execution_count": 23
        }
      ]
    },
    {
      "cell_type": "code",
      "metadata": {
        "id": "bMspNxOQtYr5",
        "colab": {
          "base_uri": "https://localhost:8080/",
          "height": 241
        },
        "outputId": "889a8ada-ac02-418f-d6f0-e5bcac6e65f7"
      },
      "source": [
        "# Drop \"Name\" column as it does not provide any useful info\n",
        "game_data.drop('Name', axis=1, inplace=True)\n",
        "print(game_data.shape)\n",
        "game_data.head()"
      ],
      "execution_count": null,
      "outputs": [
        {
          "output_type": "stream",
          "text": [
            "(6825, 15)\n"
          ],
          "name": "stdout"
        },
        {
          "output_type": "execute_result",
          "data": {
            "text/html": [
              "<div>\n",
              "<style scoped>\n",
              "    .dataframe tbody tr th:only-of-type {\n",
              "        vertical-align: middle;\n",
              "    }\n",
              "\n",
              "    .dataframe tbody tr th {\n",
              "        vertical-align: top;\n",
              "    }\n",
              "\n",
              "    .dataframe thead th {\n",
              "        text-align: right;\n",
              "    }\n",
              "</style>\n",
              "<table border=\"1\" class=\"dataframe\">\n",
              "  <thead>\n",
              "    <tr style=\"text-align: right;\">\n",
              "      <th></th>\n",
              "      <th>Platform</th>\n",
              "      <th>Year_of_Release</th>\n",
              "      <th>Genre</th>\n",
              "      <th>Publisher</th>\n",
              "      <th>NA_Sales</th>\n",
              "      <th>EU_Sales</th>\n",
              "      <th>JP_Sales</th>\n",
              "      <th>Other_Sales</th>\n",
              "      <th>Global_Sales</th>\n",
              "      <th>Critic_Score</th>\n",
              "      <th>Critic_Count</th>\n",
              "      <th>User_Score</th>\n",
              "      <th>User_Count</th>\n",
              "      <th>Developer</th>\n",
              "      <th>Rating</th>\n",
              "    </tr>\n",
              "  </thead>\n",
              "  <tbody>\n",
              "    <tr>\n",
              "      <th>0</th>\n",
              "      <td>Wii</td>\n",
              "      <td>2006.0</td>\n",
              "      <td>Sports</td>\n",
              "      <td>Nintendo</td>\n",
              "      <td>41.36</td>\n",
              "      <td>28.96</td>\n",
              "      <td>3.77</td>\n",
              "      <td>8.45</td>\n",
              "      <td>82.53</td>\n",
              "      <td>76.0</td>\n",
              "      <td>51.0</td>\n",
              "      <td>8</td>\n",
              "      <td>322.0</td>\n",
              "      <td>Nintendo</td>\n",
              "      <td>E</td>\n",
              "    </tr>\n",
              "    <tr>\n",
              "      <th>2</th>\n",
              "      <td>Wii</td>\n",
              "      <td>2008.0</td>\n",
              "      <td>Racing</td>\n",
              "      <td>Nintendo</td>\n",
              "      <td>15.68</td>\n",
              "      <td>12.76</td>\n",
              "      <td>3.79</td>\n",
              "      <td>3.29</td>\n",
              "      <td>35.52</td>\n",
              "      <td>82.0</td>\n",
              "      <td>73.0</td>\n",
              "      <td>8.3</td>\n",
              "      <td>709.0</td>\n",
              "      <td>Nintendo</td>\n",
              "      <td>E</td>\n",
              "    </tr>\n",
              "    <tr>\n",
              "      <th>3</th>\n",
              "      <td>Wii</td>\n",
              "      <td>2009.0</td>\n",
              "      <td>Sports</td>\n",
              "      <td>Nintendo</td>\n",
              "      <td>15.61</td>\n",
              "      <td>10.93</td>\n",
              "      <td>3.28</td>\n",
              "      <td>2.95</td>\n",
              "      <td>32.77</td>\n",
              "      <td>80.0</td>\n",
              "      <td>73.0</td>\n",
              "      <td>8</td>\n",
              "      <td>192.0</td>\n",
              "      <td>Nintendo</td>\n",
              "      <td>E</td>\n",
              "    </tr>\n",
              "    <tr>\n",
              "      <th>6</th>\n",
              "      <td>DS</td>\n",
              "      <td>2006.0</td>\n",
              "      <td>Platform</td>\n",
              "      <td>Nintendo</td>\n",
              "      <td>11.28</td>\n",
              "      <td>9.14</td>\n",
              "      <td>6.50</td>\n",
              "      <td>2.88</td>\n",
              "      <td>29.80</td>\n",
              "      <td>89.0</td>\n",
              "      <td>65.0</td>\n",
              "      <td>8.5</td>\n",
              "      <td>431.0</td>\n",
              "      <td>Nintendo</td>\n",
              "      <td>E</td>\n",
              "    </tr>\n",
              "    <tr>\n",
              "      <th>7</th>\n",
              "      <td>Wii</td>\n",
              "      <td>2006.0</td>\n",
              "      <td>Misc</td>\n",
              "      <td>Nintendo</td>\n",
              "      <td>13.96</td>\n",
              "      <td>9.18</td>\n",
              "      <td>2.93</td>\n",
              "      <td>2.84</td>\n",
              "      <td>28.92</td>\n",
              "      <td>58.0</td>\n",
              "      <td>41.0</td>\n",
              "      <td>6.6</td>\n",
              "      <td>129.0</td>\n",
              "      <td>Nintendo</td>\n",
              "      <td>E</td>\n",
              "    </tr>\n",
              "  </tbody>\n",
              "</table>\n",
              "</div>"
            ],
            "text/plain": [
              "  Platform  Year_of_Release     Genre  ... User_Count  Developer  Rating\n",
              "0      Wii           2006.0    Sports  ...      322.0   Nintendo       E\n",
              "2      Wii           2008.0    Racing  ...      709.0   Nintendo       E\n",
              "3      Wii           2009.0    Sports  ...      192.0   Nintendo       E\n",
              "6       DS           2006.0  Platform  ...      431.0   Nintendo       E\n",
              "7      Wii           2006.0      Misc  ...      129.0   Nintendo       E\n",
              "\n",
              "[5 rows x 15 columns]"
            ]
          },
          "metadata": {
            "tags": []
          },
          "execution_count": 24
        }
      ]
    },
    {
      "cell_type": "code",
      "metadata": {
        "id": "mNBt-_NutYr6",
        "colab": {
          "base_uri": "https://localhost:8080/",
          "height": 241
        },
        "outputId": "d1891645-1172-4687-8c6c-04c0456552e9"
      },
      "source": [
        "# Drop \"Global_Sales\" column as it is redundant feature - it's just sum of regional and other sales\n",
        "game_data.drop('Global_Sales', axis=1, inplace=True)\n",
        "print(game_data.shape)\n",
        "game_data.head()"
      ],
      "execution_count": null,
      "outputs": [
        {
          "output_type": "stream",
          "text": [
            "(6825, 14)\n"
          ],
          "name": "stdout"
        },
        {
          "output_type": "execute_result",
          "data": {
            "text/html": [
              "<div>\n",
              "<style scoped>\n",
              "    .dataframe tbody tr th:only-of-type {\n",
              "        vertical-align: middle;\n",
              "    }\n",
              "\n",
              "    .dataframe tbody tr th {\n",
              "        vertical-align: top;\n",
              "    }\n",
              "\n",
              "    .dataframe thead th {\n",
              "        text-align: right;\n",
              "    }\n",
              "</style>\n",
              "<table border=\"1\" class=\"dataframe\">\n",
              "  <thead>\n",
              "    <tr style=\"text-align: right;\">\n",
              "      <th></th>\n",
              "      <th>Platform</th>\n",
              "      <th>Year_of_Release</th>\n",
              "      <th>Genre</th>\n",
              "      <th>Publisher</th>\n",
              "      <th>NA_Sales</th>\n",
              "      <th>EU_Sales</th>\n",
              "      <th>JP_Sales</th>\n",
              "      <th>Other_Sales</th>\n",
              "      <th>Critic_Score</th>\n",
              "      <th>Critic_Count</th>\n",
              "      <th>User_Score</th>\n",
              "      <th>User_Count</th>\n",
              "      <th>Developer</th>\n",
              "      <th>Rating</th>\n",
              "    </tr>\n",
              "  </thead>\n",
              "  <tbody>\n",
              "    <tr>\n",
              "      <th>0</th>\n",
              "      <td>Wii</td>\n",
              "      <td>2006.0</td>\n",
              "      <td>Sports</td>\n",
              "      <td>Nintendo</td>\n",
              "      <td>41.36</td>\n",
              "      <td>28.96</td>\n",
              "      <td>3.77</td>\n",
              "      <td>8.45</td>\n",
              "      <td>76.0</td>\n",
              "      <td>51.0</td>\n",
              "      <td>8</td>\n",
              "      <td>322.0</td>\n",
              "      <td>Nintendo</td>\n",
              "      <td>E</td>\n",
              "    </tr>\n",
              "    <tr>\n",
              "      <th>2</th>\n",
              "      <td>Wii</td>\n",
              "      <td>2008.0</td>\n",
              "      <td>Racing</td>\n",
              "      <td>Nintendo</td>\n",
              "      <td>15.68</td>\n",
              "      <td>12.76</td>\n",
              "      <td>3.79</td>\n",
              "      <td>3.29</td>\n",
              "      <td>82.0</td>\n",
              "      <td>73.0</td>\n",
              "      <td>8.3</td>\n",
              "      <td>709.0</td>\n",
              "      <td>Nintendo</td>\n",
              "      <td>E</td>\n",
              "    </tr>\n",
              "    <tr>\n",
              "      <th>3</th>\n",
              "      <td>Wii</td>\n",
              "      <td>2009.0</td>\n",
              "      <td>Sports</td>\n",
              "      <td>Nintendo</td>\n",
              "      <td>15.61</td>\n",
              "      <td>10.93</td>\n",
              "      <td>3.28</td>\n",
              "      <td>2.95</td>\n",
              "      <td>80.0</td>\n",
              "      <td>73.0</td>\n",
              "      <td>8</td>\n",
              "      <td>192.0</td>\n",
              "      <td>Nintendo</td>\n",
              "      <td>E</td>\n",
              "    </tr>\n",
              "    <tr>\n",
              "      <th>6</th>\n",
              "      <td>DS</td>\n",
              "      <td>2006.0</td>\n",
              "      <td>Platform</td>\n",
              "      <td>Nintendo</td>\n",
              "      <td>11.28</td>\n",
              "      <td>9.14</td>\n",
              "      <td>6.50</td>\n",
              "      <td>2.88</td>\n",
              "      <td>89.0</td>\n",
              "      <td>65.0</td>\n",
              "      <td>8.5</td>\n",
              "      <td>431.0</td>\n",
              "      <td>Nintendo</td>\n",
              "      <td>E</td>\n",
              "    </tr>\n",
              "    <tr>\n",
              "      <th>7</th>\n",
              "      <td>Wii</td>\n",
              "      <td>2006.0</td>\n",
              "      <td>Misc</td>\n",
              "      <td>Nintendo</td>\n",
              "      <td>13.96</td>\n",
              "      <td>9.18</td>\n",
              "      <td>2.93</td>\n",
              "      <td>2.84</td>\n",
              "      <td>58.0</td>\n",
              "      <td>41.0</td>\n",
              "      <td>6.6</td>\n",
              "      <td>129.0</td>\n",
              "      <td>Nintendo</td>\n",
              "      <td>E</td>\n",
              "    </tr>\n",
              "  </tbody>\n",
              "</table>\n",
              "</div>"
            ],
            "text/plain": [
              "  Platform  Year_of_Release     Genre  ... User_Count  Developer  Rating\n",
              "0      Wii           2006.0    Sports  ...      322.0   Nintendo       E\n",
              "2      Wii           2008.0    Racing  ...      709.0   Nintendo       E\n",
              "3      Wii           2009.0    Sports  ...      192.0   Nintendo       E\n",
              "6       DS           2006.0  Platform  ...      431.0   Nintendo       E\n",
              "7      Wii           2006.0      Misc  ...      129.0   Nintendo       E\n",
              "\n",
              "[5 rows x 14 columns]"
            ]
          },
          "metadata": {
            "tags": []
          },
          "execution_count": 25
        }
      ]
    },
    {
      "cell_type": "code",
      "metadata": {
        "id": "5b47wCuLtYr9"
      },
      "source": [
        "# Get feature vector X_reg (all columns but \"EU_Sales\") and target label y_reg as \"EU_Sales\"\n",
        "X_reg = game_data.drop(columns=['EU_Sales'])\n",
        "y_reg = game_data['EU_Sales']"
      ],
      "execution_count": null,
      "outputs": []
    },
    {
      "cell_type": "code",
      "metadata": {
        "id": "OkRyfnh1tYr_",
        "colab": {
          "base_uri": "https://localhost:8080/",
          "height": 221
        },
        "outputId": "50f9fbbe-2818-47fa-b00f-263444530bcc"
      },
      "source": [
        "# Print X_reg shape and head\n",
        "print(X_reg.shape)\n",
        "X_reg.head()"
      ],
      "execution_count": null,
      "outputs": [
        {
          "output_type": "stream",
          "text": [
            "(6825, 13)\n"
          ],
          "name": "stdout"
        },
        {
          "output_type": "execute_result",
          "data": {
            "text/html": [
              "<div>\n",
              "<style scoped>\n",
              "    .dataframe tbody tr th:only-of-type {\n",
              "        vertical-align: middle;\n",
              "    }\n",
              "\n",
              "    .dataframe tbody tr th {\n",
              "        vertical-align: top;\n",
              "    }\n",
              "\n",
              "    .dataframe thead th {\n",
              "        text-align: right;\n",
              "    }\n",
              "</style>\n",
              "<table border=\"1\" class=\"dataframe\">\n",
              "  <thead>\n",
              "    <tr style=\"text-align: right;\">\n",
              "      <th></th>\n",
              "      <th>Platform</th>\n",
              "      <th>Year_of_Release</th>\n",
              "      <th>Genre</th>\n",
              "      <th>Publisher</th>\n",
              "      <th>NA_Sales</th>\n",
              "      <th>JP_Sales</th>\n",
              "      <th>Other_Sales</th>\n",
              "      <th>Critic_Score</th>\n",
              "      <th>Critic_Count</th>\n",
              "      <th>User_Score</th>\n",
              "      <th>User_Count</th>\n",
              "      <th>Developer</th>\n",
              "      <th>Rating</th>\n",
              "    </tr>\n",
              "  </thead>\n",
              "  <tbody>\n",
              "    <tr>\n",
              "      <th>0</th>\n",
              "      <td>Wii</td>\n",
              "      <td>2006.0</td>\n",
              "      <td>Sports</td>\n",
              "      <td>Nintendo</td>\n",
              "      <td>41.36</td>\n",
              "      <td>3.77</td>\n",
              "      <td>8.45</td>\n",
              "      <td>76.0</td>\n",
              "      <td>51.0</td>\n",
              "      <td>8</td>\n",
              "      <td>322.0</td>\n",
              "      <td>Nintendo</td>\n",
              "      <td>E</td>\n",
              "    </tr>\n",
              "    <tr>\n",
              "      <th>2</th>\n",
              "      <td>Wii</td>\n",
              "      <td>2008.0</td>\n",
              "      <td>Racing</td>\n",
              "      <td>Nintendo</td>\n",
              "      <td>15.68</td>\n",
              "      <td>3.79</td>\n",
              "      <td>3.29</td>\n",
              "      <td>82.0</td>\n",
              "      <td>73.0</td>\n",
              "      <td>8.3</td>\n",
              "      <td>709.0</td>\n",
              "      <td>Nintendo</td>\n",
              "      <td>E</td>\n",
              "    </tr>\n",
              "    <tr>\n",
              "      <th>3</th>\n",
              "      <td>Wii</td>\n",
              "      <td>2009.0</td>\n",
              "      <td>Sports</td>\n",
              "      <td>Nintendo</td>\n",
              "      <td>15.61</td>\n",
              "      <td>3.28</td>\n",
              "      <td>2.95</td>\n",
              "      <td>80.0</td>\n",
              "      <td>73.0</td>\n",
              "      <td>8</td>\n",
              "      <td>192.0</td>\n",
              "      <td>Nintendo</td>\n",
              "      <td>E</td>\n",
              "    </tr>\n",
              "    <tr>\n",
              "      <th>6</th>\n",
              "      <td>DS</td>\n",
              "      <td>2006.0</td>\n",
              "      <td>Platform</td>\n",
              "      <td>Nintendo</td>\n",
              "      <td>11.28</td>\n",
              "      <td>6.50</td>\n",
              "      <td>2.88</td>\n",
              "      <td>89.0</td>\n",
              "      <td>65.0</td>\n",
              "      <td>8.5</td>\n",
              "      <td>431.0</td>\n",
              "      <td>Nintendo</td>\n",
              "      <td>E</td>\n",
              "    </tr>\n",
              "    <tr>\n",
              "      <th>7</th>\n",
              "      <td>Wii</td>\n",
              "      <td>2006.0</td>\n",
              "      <td>Misc</td>\n",
              "      <td>Nintendo</td>\n",
              "      <td>13.96</td>\n",
              "      <td>2.93</td>\n",
              "      <td>2.84</td>\n",
              "      <td>58.0</td>\n",
              "      <td>41.0</td>\n",
              "      <td>6.6</td>\n",
              "      <td>129.0</td>\n",
              "      <td>Nintendo</td>\n",
              "      <td>E</td>\n",
              "    </tr>\n",
              "  </tbody>\n",
              "</table>\n",
              "</div>"
            ],
            "text/plain": [
              "  Platform  Year_of_Release     Genre  ... User_Count  Developer  Rating\n",
              "0      Wii           2006.0    Sports  ...      322.0   Nintendo       E\n",
              "2      Wii           2008.0    Racing  ...      709.0   Nintendo       E\n",
              "3      Wii           2009.0    Sports  ...      192.0   Nintendo       E\n",
              "6       DS           2006.0  Platform  ...      431.0   Nintendo       E\n",
              "7      Wii           2006.0      Misc  ...      129.0   Nintendo       E\n",
              "\n",
              "[5 rows x 13 columns]"
            ]
          },
          "metadata": {
            "tags": []
          },
          "execution_count": 27
        }
      ]
    },
    {
      "cell_type": "code",
      "metadata": {
        "id": "MTRsO3H6tYsB",
        "colab": {
          "base_uri": "https://localhost:8080/",
          "height": 321
        },
        "outputId": "f052ebe5-53eb-4b51-c543-a32aa50b99a8"
      },
      "source": [
        "# Using pandas.get_dummies() create dummy variables for categorical features of X_reg\n",
        "X_reg = pandas.get_dummies(X_reg)\n",
        "print(X_reg.shape)\n",
        "X_reg.head()"
      ],
      "execution_count": null,
      "outputs": [
        {
          "output_type": "stream",
          "text": [
            "(6825, 1683)\n"
          ],
          "name": "stdout"
        },
        {
          "output_type": "execute_result",
          "data": {
            "text/html": [
              "<div>\n",
              "<style scoped>\n",
              "    .dataframe tbody tr th:only-of-type {\n",
              "        vertical-align: middle;\n",
              "    }\n",
              "\n",
              "    .dataframe tbody tr th {\n",
              "        vertical-align: top;\n",
              "    }\n",
              "\n",
              "    .dataframe thead th {\n",
              "        text-align: right;\n",
              "    }\n",
              "</style>\n",
              "<table border=\"1\" class=\"dataframe\">\n",
              "  <thead>\n",
              "    <tr style=\"text-align: right;\">\n",
              "      <th></th>\n",
              "      <th>Year_of_Release</th>\n",
              "      <th>NA_Sales</th>\n",
              "      <th>JP_Sales</th>\n",
              "      <th>Other_Sales</th>\n",
              "      <th>Critic_Score</th>\n",
              "      <th>Critic_Count</th>\n",
              "      <th>User_Count</th>\n",
              "      <th>Platform_3DS</th>\n",
              "      <th>Platform_DC</th>\n",
              "      <th>Platform_DS</th>\n",
              "      <th>Platform_GBA</th>\n",
              "      <th>Platform_GC</th>\n",
              "      <th>Platform_PC</th>\n",
              "      <th>Platform_PS</th>\n",
              "      <th>Platform_PS2</th>\n",
              "      <th>Platform_PS3</th>\n",
              "      <th>Platform_PS4</th>\n",
              "      <th>Platform_PSP</th>\n",
              "      <th>Platform_PSV</th>\n",
              "      <th>Platform_Wii</th>\n",
              "      <th>Platform_WiiU</th>\n",
              "      <th>Platform_X360</th>\n",
              "      <th>Platform_XB</th>\n",
              "      <th>Platform_XOne</th>\n",
              "      <th>Genre_Action</th>\n",
              "      <th>Genre_Adventure</th>\n",
              "      <th>Genre_Fighting</th>\n",
              "      <th>Genre_Misc</th>\n",
              "      <th>Genre_Platform</th>\n",
              "      <th>Genre_Puzzle</th>\n",
              "      <th>Genre_Racing</th>\n",
              "      <th>Genre_Role-Playing</th>\n",
              "      <th>Genre_Shooter</th>\n",
              "      <th>Genre_Simulation</th>\n",
              "      <th>Genre_Sports</th>\n",
              "      <th>Genre_Strategy</th>\n",
              "      <th>Publisher_10TACLE Studios</th>\n",
              "      <th>Publisher_1C Company</th>\n",
              "      <th>Publisher_2D Boy</th>\n",
              "      <th>Publisher_3DO</th>\n",
              "      <th>...</th>\n",
              "      <th>Developer_Wizarbox</th>\n",
              "      <th>Developer_WorkJam</th>\n",
              "      <th>Developer_Wow Entertainment</th>\n",
              "      <th>Developer_Xpec</th>\n",
              "      <th>Developer_Yacht Club Games</th>\n",
              "      <th>Developer_Yager</th>\n",
              "      <th>Developer_Yuke's</th>\n",
              "      <th>Developer_Z-Axis, Ltd.</th>\n",
              "      <th>Developer_Zed Two Limited</th>\n",
              "      <th>Developer_Zen Studios</th>\n",
              "      <th>Developer_Zener Works</th>\n",
              "      <th>Developer_ZeniMax Media</th>\n",
              "      <th>Developer_Zerodiv</th>\n",
              "      <th>Developer_Zindagi Games</th>\n",
              "      <th>Developer_Zipper Interactive</th>\n",
              "      <th>Developer_Zoe Mode</th>\n",
              "      <th>Developer_Zoe Mode, HB Studios Multimedia</th>\n",
              "      <th>Developer_Zombie</th>\n",
              "      <th>Developer_Zombie Studios</th>\n",
              "      <th>Developer_Zono Inc.</th>\n",
              "      <th>Developer_Zoo Games</th>\n",
              "      <th>Developer_Zoom</th>\n",
              "      <th>Developer_ZootFly</th>\n",
              "      <th>Developer_h.a.n.d. Inc.</th>\n",
              "      <th>Developer_iNiS</th>\n",
              "      <th>Developer_id Software</th>\n",
              "      <th>Developer_id Software, Nerve Software</th>\n",
              "      <th>Developer_id Software, Raven Software</th>\n",
              "      <th>Developer_n-Space</th>\n",
              "      <th>Developer_neo Software</th>\n",
              "      <th>Developer_odenis studio</th>\n",
              "      <th>Developer_syn Sophia</th>\n",
              "      <th>Developer_zSlide</th>\n",
              "      <th>Rating_AO</th>\n",
              "      <th>Rating_E</th>\n",
              "      <th>Rating_E10+</th>\n",
              "      <th>Rating_K-A</th>\n",
              "      <th>Rating_M</th>\n",
              "      <th>Rating_RP</th>\n",
              "      <th>Rating_T</th>\n",
              "    </tr>\n",
              "  </thead>\n",
              "  <tbody>\n",
              "    <tr>\n",
              "      <th>0</th>\n",
              "      <td>2006.0</td>\n",
              "      <td>41.36</td>\n",
              "      <td>3.77</td>\n",
              "      <td>8.45</td>\n",
              "      <td>76.0</td>\n",
              "      <td>51.0</td>\n",
              "      <td>322.0</td>\n",
              "      <td>0</td>\n",
              "      <td>0</td>\n",
              "      <td>0</td>\n",
              "      <td>0</td>\n",
              "      <td>0</td>\n",
              "      <td>0</td>\n",
              "      <td>0</td>\n",
              "      <td>0</td>\n",
              "      <td>0</td>\n",
              "      <td>0</td>\n",
              "      <td>0</td>\n",
              "      <td>0</td>\n",
              "      <td>1</td>\n",
              "      <td>0</td>\n",
              "      <td>0</td>\n",
              "      <td>0</td>\n",
              "      <td>0</td>\n",
              "      <td>0</td>\n",
              "      <td>0</td>\n",
              "      <td>0</td>\n",
              "      <td>0</td>\n",
              "      <td>0</td>\n",
              "      <td>0</td>\n",
              "      <td>0</td>\n",
              "      <td>0</td>\n",
              "      <td>0</td>\n",
              "      <td>0</td>\n",
              "      <td>1</td>\n",
              "      <td>0</td>\n",
              "      <td>0</td>\n",
              "      <td>0</td>\n",
              "      <td>0</td>\n",
              "      <td>0</td>\n",
              "      <td>...</td>\n",
              "      <td>0</td>\n",
              "      <td>0</td>\n",
              "      <td>0</td>\n",
              "      <td>0</td>\n",
              "      <td>0</td>\n",
              "      <td>0</td>\n",
              "      <td>0</td>\n",
              "      <td>0</td>\n",
              "      <td>0</td>\n",
              "      <td>0</td>\n",
              "      <td>0</td>\n",
              "      <td>0</td>\n",
              "      <td>0</td>\n",
              "      <td>0</td>\n",
              "      <td>0</td>\n",
              "      <td>0</td>\n",
              "      <td>0</td>\n",
              "      <td>0</td>\n",
              "      <td>0</td>\n",
              "      <td>0</td>\n",
              "      <td>0</td>\n",
              "      <td>0</td>\n",
              "      <td>0</td>\n",
              "      <td>0</td>\n",
              "      <td>0</td>\n",
              "      <td>0</td>\n",
              "      <td>0</td>\n",
              "      <td>0</td>\n",
              "      <td>0</td>\n",
              "      <td>0</td>\n",
              "      <td>0</td>\n",
              "      <td>0</td>\n",
              "      <td>0</td>\n",
              "      <td>0</td>\n",
              "      <td>1</td>\n",
              "      <td>0</td>\n",
              "      <td>0</td>\n",
              "      <td>0</td>\n",
              "      <td>0</td>\n",
              "      <td>0</td>\n",
              "    </tr>\n",
              "    <tr>\n",
              "      <th>2</th>\n",
              "      <td>2008.0</td>\n",
              "      <td>15.68</td>\n",
              "      <td>3.79</td>\n",
              "      <td>3.29</td>\n",
              "      <td>82.0</td>\n",
              "      <td>73.0</td>\n",
              "      <td>709.0</td>\n",
              "      <td>0</td>\n",
              "      <td>0</td>\n",
              "      <td>0</td>\n",
              "      <td>0</td>\n",
              "      <td>0</td>\n",
              "      <td>0</td>\n",
              "      <td>0</td>\n",
              "      <td>0</td>\n",
              "      <td>0</td>\n",
              "      <td>0</td>\n",
              "      <td>0</td>\n",
              "      <td>0</td>\n",
              "      <td>1</td>\n",
              "      <td>0</td>\n",
              "      <td>0</td>\n",
              "      <td>0</td>\n",
              "      <td>0</td>\n",
              "      <td>0</td>\n",
              "      <td>0</td>\n",
              "      <td>0</td>\n",
              "      <td>0</td>\n",
              "      <td>0</td>\n",
              "      <td>0</td>\n",
              "      <td>1</td>\n",
              "      <td>0</td>\n",
              "      <td>0</td>\n",
              "      <td>0</td>\n",
              "      <td>0</td>\n",
              "      <td>0</td>\n",
              "      <td>0</td>\n",
              "      <td>0</td>\n",
              "      <td>0</td>\n",
              "      <td>0</td>\n",
              "      <td>...</td>\n",
              "      <td>0</td>\n",
              "      <td>0</td>\n",
              "      <td>0</td>\n",
              "      <td>0</td>\n",
              "      <td>0</td>\n",
              "      <td>0</td>\n",
              "      <td>0</td>\n",
              "      <td>0</td>\n",
              "      <td>0</td>\n",
              "      <td>0</td>\n",
              "      <td>0</td>\n",
              "      <td>0</td>\n",
              "      <td>0</td>\n",
              "      <td>0</td>\n",
              "      <td>0</td>\n",
              "      <td>0</td>\n",
              "      <td>0</td>\n",
              "      <td>0</td>\n",
              "      <td>0</td>\n",
              "      <td>0</td>\n",
              "      <td>0</td>\n",
              "      <td>0</td>\n",
              "      <td>0</td>\n",
              "      <td>0</td>\n",
              "      <td>0</td>\n",
              "      <td>0</td>\n",
              "      <td>0</td>\n",
              "      <td>0</td>\n",
              "      <td>0</td>\n",
              "      <td>0</td>\n",
              "      <td>0</td>\n",
              "      <td>0</td>\n",
              "      <td>0</td>\n",
              "      <td>0</td>\n",
              "      <td>1</td>\n",
              "      <td>0</td>\n",
              "      <td>0</td>\n",
              "      <td>0</td>\n",
              "      <td>0</td>\n",
              "      <td>0</td>\n",
              "    </tr>\n",
              "    <tr>\n",
              "      <th>3</th>\n",
              "      <td>2009.0</td>\n",
              "      <td>15.61</td>\n",
              "      <td>3.28</td>\n",
              "      <td>2.95</td>\n",
              "      <td>80.0</td>\n",
              "      <td>73.0</td>\n",
              "      <td>192.0</td>\n",
              "      <td>0</td>\n",
              "      <td>0</td>\n",
              "      <td>0</td>\n",
              "      <td>0</td>\n",
              "      <td>0</td>\n",
              "      <td>0</td>\n",
              "      <td>0</td>\n",
              "      <td>0</td>\n",
              "      <td>0</td>\n",
              "      <td>0</td>\n",
              "      <td>0</td>\n",
              "      <td>0</td>\n",
              "      <td>1</td>\n",
              "      <td>0</td>\n",
              "      <td>0</td>\n",
              "      <td>0</td>\n",
              "      <td>0</td>\n",
              "      <td>0</td>\n",
              "      <td>0</td>\n",
              "      <td>0</td>\n",
              "      <td>0</td>\n",
              "      <td>0</td>\n",
              "      <td>0</td>\n",
              "      <td>0</td>\n",
              "      <td>0</td>\n",
              "      <td>0</td>\n",
              "      <td>0</td>\n",
              "      <td>1</td>\n",
              "      <td>0</td>\n",
              "      <td>0</td>\n",
              "      <td>0</td>\n",
              "      <td>0</td>\n",
              "      <td>0</td>\n",
              "      <td>...</td>\n",
              "      <td>0</td>\n",
              "      <td>0</td>\n",
              "      <td>0</td>\n",
              "      <td>0</td>\n",
              "      <td>0</td>\n",
              "      <td>0</td>\n",
              "      <td>0</td>\n",
              "      <td>0</td>\n",
              "      <td>0</td>\n",
              "      <td>0</td>\n",
              "      <td>0</td>\n",
              "      <td>0</td>\n",
              "      <td>0</td>\n",
              "      <td>0</td>\n",
              "      <td>0</td>\n",
              "      <td>0</td>\n",
              "      <td>0</td>\n",
              "      <td>0</td>\n",
              "      <td>0</td>\n",
              "      <td>0</td>\n",
              "      <td>0</td>\n",
              "      <td>0</td>\n",
              "      <td>0</td>\n",
              "      <td>0</td>\n",
              "      <td>0</td>\n",
              "      <td>0</td>\n",
              "      <td>0</td>\n",
              "      <td>0</td>\n",
              "      <td>0</td>\n",
              "      <td>0</td>\n",
              "      <td>0</td>\n",
              "      <td>0</td>\n",
              "      <td>0</td>\n",
              "      <td>0</td>\n",
              "      <td>1</td>\n",
              "      <td>0</td>\n",
              "      <td>0</td>\n",
              "      <td>0</td>\n",
              "      <td>0</td>\n",
              "      <td>0</td>\n",
              "    </tr>\n",
              "    <tr>\n",
              "      <th>6</th>\n",
              "      <td>2006.0</td>\n",
              "      <td>11.28</td>\n",
              "      <td>6.50</td>\n",
              "      <td>2.88</td>\n",
              "      <td>89.0</td>\n",
              "      <td>65.0</td>\n",
              "      <td>431.0</td>\n",
              "      <td>0</td>\n",
              "      <td>0</td>\n",
              "      <td>1</td>\n",
              "      <td>0</td>\n",
              "      <td>0</td>\n",
              "      <td>0</td>\n",
              "      <td>0</td>\n",
              "      <td>0</td>\n",
              "      <td>0</td>\n",
              "      <td>0</td>\n",
              "      <td>0</td>\n",
              "      <td>0</td>\n",
              "      <td>0</td>\n",
              "      <td>0</td>\n",
              "      <td>0</td>\n",
              "      <td>0</td>\n",
              "      <td>0</td>\n",
              "      <td>0</td>\n",
              "      <td>0</td>\n",
              "      <td>0</td>\n",
              "      <td>0</td>\n",
              "      <td>1</td>\n",
              "      <td>0</td>\n",
              "      <td>0</td>\n",
              "      <td>0</td>\n",
              "      <td>0</td>\n",
              "      <td>0</td>\n",
              "      <td>0</td>\n",
              "      <td>0</td>\n",
              "      <td>0</td>\n",
              "      <td>0</td>\n",
              "      <td>0</td>\n",
              "      <td>0</td>\n",
              "      <td>...</td>\n",
              "      <td>0</td>\n",
              "      <td>0</td>\n",
              "      <td>0</td>\n",
              "      <td>0</td>\n",
              "      <td>0</td>\n",
              "      <td>0</td>\n",
              "      <td>0</td>\n",
              "      <td>0</td>\n",
              "      <td>0</td>\n",
              "      <td>0</td>\n",
              "      <td>0</td>\n",
              "      <td>0</td>\n",
              "      <td>0</td>\n",
              "      <td>0</td>\n",
              "      <td>0</td>\n",
              "      <td>0</td>\n",
              "      <td>0</td>\n",
              "      <td>0</td>\n",
              "      <td>0</td>\n",
              "      <td>0</td>\n",
              "      <td>0</td>\n",
              "      <td>0</td>\n",
              "      <td>0</td>\n",
              "      <td>0</td>\n",
              "      <td>0</td>\n",
              "      <td>0</td>\n",
              "      <td>0</td>\n",
              "      <td>0</td>\n",
              "      <td>0</td>\n",
              "      <td>0</td>\n",
              "      <td>0</td>\n",
              "      <td>0</td>\n",
              "      <td>0</td>\n",
              "      <td>0</td>\n",
              "      <td>1</td>\n",
              "      <td>0</td>\n",
              "      <td>0</td>\n",
              "      <td>0</td>\n",
              "      <td>0</td>\n",
              "      <td>0</td>\n",
              "    </tr>\n",
              "    <tr>\n",
              "      <th>7</th>\n",
              "      <td>2006.0</td>\n",
              "      <td>13.96</td>\n",
              "      <td>2.93</td>\n",
              "      <td>2.84</td>\n",
              "      <td>58.0</td>\n",
              "      <td>41.0</td>\n",
              "      <td>129.0</td>\n",
              "      <td>0</td>\n",
              "      <td>0</td>\n",
              "      <td>0</td>\n",
              "      <td>0</td>\n",
              "      <td>0</td>\n",
              "      <td>0</td>\n",
              "      <td>0</td>\n",
              "      <td>0</td>\n",
              "      <td>0</td>\n",
              "      <td>0</td>\n",
              "      <td>0</td>\n",
              "      <td>0</td>\n",
              "      <td>1</td>\n",
              "      <td>0</td>\n",
              "      <td>0</td>\n",
              "      <td>0</td>\n",
              "      <td>0</td>\n",
              "      <td>0</td>\n",
              "      <td>0</td>\n",
              "      <td>0</td>\n",
              "      <td>1</td>\n",
              "      <td>0</td>\n",
              "      <td>0</td>\n",
              "      <td>0</td>\n",
              "      <td>0</td>\n",
              "      <td>0</td>\n",
              "      <td>0</td>\n",
              "      <td>0</td>\n",
              "      <td>0</td>\n",
              "      <td>0</td>\n",
              "      <td>0</td>\n",
              "      <td>0</td>\n",
              "      <td>0</td>\n",
              "      <td>...</td>\n",
              "      <td>0</td>\n",
              "      <td>0</td>\n",
              "      <td>0</td>\n",
              "      <td>0</td>\n",
              "      <td>0</td>\n",
              "      <td>0</td>\n",
              "      <td>0</td>\n",
              "      <td>0</td>\n",
              "      <td>0</td>\n",
              "      <td>0</td>\n",
              "      <td>0</td>\n",
              "      <td>0</td>\n",
              "      <td>0</td>\n",
              "      <td>0</td>\n",
              "      <td>0</td>\n",
              "      <td>0</td>\n",
              "      <td>0</td>\n",
              "      <td>0</td>\n",
              "      <td>0</td>\n",
              "      <td>0</td>\n",
              "      <td>0</td>\n",
              "      <td>0</td>\n",
              "      <td>0</td>\n",
              "      <td>0</td>\n",
              "      <td>0</td>\n",
              "      <td>0</td>\n",
              "      <td>0</td>\n",
              "      <td>0</td>\n",
              "      <td>0</td>\n",
              "      <td>0</td>\n",
              "      <td>0</td>\n",
              "      <td>0</td>\n",
              "      <td>0</td>\n",
              "      <td>0</td>\n",
              "      <td>1</td>\n",
              "      <td>0</td>\n",
              "      <td>0</td>\n",
              "      <td>0</td>\n",
              "      <td>0</td>\n",
              "      <td>0</td>\n",
              "    </tr>\n",
              "  </tbody>\n",
              "</table>\n",
              "<p>5 rows × 1683 columns</p>\n",
              "</div>"
            ],
            "text/plain": [
              "   Year_of_Release  NA_Sales  JP_Sales  ...  Rating_M  Rating_RP  Rating_T\n",
              "0           2006.0     41.36      3.77  ...         0          0         0\n",
              "2           2008.0     15.68      3.79  ...         0          0         0\n",
              "3           2009.0     15.61      3.28  ...         0          0         0\n",
              "6           2006.0     11.28      6.50  ...         0          0         0\n",
              "7           2006.0     13.96      2.93  ...         0          0         0\n",
              "\n",
              "[5 rows x 1683 columns]"
            ]
          },
          "metadata": {
            "tags": []
          },
          "execution_count": 28
        }
      ]
    },
    {
      "cell_type": "markdown",
      "metadata": {
        "id": "2xwK-3qGtYsC"
      },
      "source": [
        "> <b>Note:</b> The output of the following cells is provided to you for your reference. All the following cells depend on the correctness of your preprocessing steps and can be verified by these outputs."
      ]
    },
    {
      "cell_type": "code",
      "metadata": {
        "id": "1sRmLHretYsD",
        "colab": {
          "base_uri": "https://localhost:8080/",
          "height": 321
        },
        "outputId": "789f0157-7984-4ef4-8fbf-4e282144650d"
      },
      "source": [
        "# Normalize X_reg using mean() and std()  NOTE: The output is provided for your reference.\n",
        "X_reg = (X_reg - X_reg.mean())/X_reg.std()\n",
        "print(X_reg.shape)\n",
        "X_reg.head()"
      ],
      "execution_count": null,
      "outputs": [
        {
          "output_type": "stream",
          "text": [
            "(6825, 1683)\n"
          ],
          "name": "stdout"
        },
        {
          "output_type": "execute_result",
          "data": {
            "text/html": [
              "<div>\n",
              "<style scoped>\n",
              "    .dataframe tbody tr th:only-of-type {\n",
              "        vertical-align: middle;\n",
              "    }\n",
              "\n",
              "    .dataframe tbody tr th {\n",
              "        vertical-align: top;\n",
              "    }\n",
              "\n",
              "    .dataframe thead th {\n",
              "        text-align: right;\n",
              "    }\n",
              "</style>\n",
              "<table border=\"1\" class=\"dataframe\">\n",
              "  <thead>\n",
              "    <tr style=\"text-align: right;\">\n",
              "      <th></th>\n",
              "      <th>Year_of_Release</th>\n",
              "      <th>NA_Sales</th>\n",
              "      <th>JP_Sales</th>\n",
              "      <th>Other_Sales</th>\n",
              "      <th>Critic_Score</th>\n",
              "      <th>Critic_Count</th>\n",
              "      <th>User_Count</th>\n",
              "      <th>Platform_3DS</th>\n",
              "      <th>Platform_DC</th>\n",
              "      <th>Platform_DS</th>\n",
              "      <th>Platform_GBA</th>\n",
              "      <th>Platform_GC</th>\n",
              "      <th>Platform_PC</th>\n",
              "      <th>Platform_PS</th>\n",
              "      <th>Platform_PS2</th>\n",
              "      <th>Platform_PS3</th>\n",
              "      <th>Platform_PS4</th>\n",
              "      <th>Platform_PSP</th>\n",
              "      <th>Platform_PSV</th>\n",
              "      <th>Platform_Wii</th>\n",
              "      <th>Platform_WiiU</th>\n",
              "      <th>Platform_X360</th>\n",
              "      <th>Platform_XB</th>\n",
              "      <th>Platform_XOne</th>\n",
              "      <th>Genre_Action</th>\n",
              "      <th>Genre_Adventure</th>\n",
              "      <th>Genre_Fighting</th>\n",
              "      <th>Genre_Misc</th>\n",
              "      <th>Genre_Platform</th>\n",
              "      <th>Genre_Puzzle</th>\n",
              "      <th>Genre_Racing</th>\n",
              "      <th>Genre_Role-Playing</th>\n",
              "      <th>Genre_Shooter</th>\n",
              "      <th>Genre_Simulation</th>\n",
              "      <th>Genre_Sports</th>\n",
              "      <th>Genre_Strategy</th>\n",
              "      <th>Publisher_10TACLE Studios</th>\n",
              "      <th>Publisher_1C Company</th>\n",
              "      <th>Publisher_2D Boy</th>\n",
              "      <th>Publisher_3DO</th>\n",
              "      <th>...</th>\n",
              "      <th>Developer_Wizarbox</th>\n",
              "      <th>Developer_WorkJam</th>\n",
              "      <th>Developer_Wow Entertainment</th>\n",
              "      <th>Developer_Xpec</th>\n",
              "      <th>Developer_Yacht Club Games</th>\n",
              "      <th>Developer_Yager</th>\n",
              "      <th>Developer_Yuke's</th>\n",
              "      <th>Developer_Z-Axis, Ltd.</th>\n",
              "      <th>Developer_Zed Two Limited</th>\n",
              "      <th>Developer_Zen Studios</th>\n",
              "      <th>Developer_Zener Works</th>\n",
              "      <th>Developer_ZeniMax Media</th>\n",
              "      <th>Developer_Zerodiv</th>\n",
              "      <th>Developer_Zindagi Games</th>\n",
              "      <th>Developer_Zipper Interactive</th>\n",
              "      <th>Developer_Zoe Mode</th>\n",
              "      <th>Developer_Zoe Mode, HB Studios Multimedia</th>\n",
              "      <th>Developer_Zombie</th>\n",
              "      <th>Developer_Zombie Studios</th>\n",
              "      <th>Developer_Zono Inc.</th>\n",
              "      <th>Developer_Zoo Games</th>\n",
              "      <th>Developer_Zoom</th>\n",
              "      <th>Developer_ZootFly</th>\n",
              "      <th>Developer_h.a.n.d. Inc.</th>\n",
              "      <th>Developer_iNiS</th>\n",
              "      <th>Developer_id Software</th>\n",
              "      <th>Developer_id Software, Nerve Software</th>\n",
              "      <th>Developer_id Software, Raven Software</th>\n",
              "      <th>Developer_n-Space</th>\n",
              "      <th>Developer_neo Software</th>\n",
              "      <th>Developer_odenis studio</th>\n",
              "      <th>Developer_syn Sophia</th>\n",
              "      <th>Developer_zSlide</th>\n",
              "      <th>Rating_AO</th>\n",
              "      <th>Rating_E</th>\n",
              "      <th>Rating_E10+</th>\n",
              "      <th>Rating_K-A</th>\n",
              "      <th>Rating_M</th>\n",
              "      <th>Rating_RP</th>\n",
              "      <th>Rating_T</th>\n",
              "    </tr>\n",
              "  </thead>\n",
              "  <tbody>\n",
              "    <tr>\n",
              "      <th>0</th>\n",
              "      <td>-0.341176</td>\n",
              "      <td>42.346639</td>\n",
              "      <td>12.886767</td>\n",
              "      <td>31.004904</td>\n",
              "      <td>0.413014</td>\n",
              "      <td>1.147975</td>\n",
              "      <td>0.250716</td>\n",
              "      <td>-0.15243</td>\n",
              "      <td>-0.045334</td>\n",
              "      <td>-0.270063</td>\n",
              "      <td>-0.189656</td>\n",
              "      <td>-0.231777</td>\n",
              "      <td>-0.324695</td>\n",
              "      <td>-0.149895</td>\n",
              "      <td>-0.44777</td>\n",
              "      <td>-0.356319</td>\n",
              "      <td>-0.190483</td>\n",
              "      <td>-0.246165</td>\n",
              "      <td>-0.132631</td>\n",
              "      <td>3.639573</td>\n",
              "      <td>-0.114938</td>\n",
              "      <td>-0.37917</td>\n",
              "      <td>-0.300404</td>\n",
              "      <td>-0.154431</td>\n",
              "      <td>-0.560105</td>\n",
              "      <td>-0.194169</td>\n",
              "      <td>-0.242123</td>\n",
              "      <td>-0.244150</td>\n",
              "      <td>-0.250487</td>\n",
              "      <td>-0.132631</td>\n",
              "      <td>-0.305018</td>\n",
              "      <td>-0.341257</td>\n",
              "      <td>-0.380685</td>\n",
              "      <td>-0.213283</td>\n",
              "      <td>2.497324</td>\n",
              "      <td>-0.201761</td>\n",
              "      <td>-0.012105</td>\n",
              "      <td>-0.01712</td>\n",
              "      <td>-0.012105</td>\n",
              "      <td>-0.046929</td>\n",
              "      <td>...</td>\n",
              "      <td>-0.012105</td>\n",
              "      <td>-0.012105</td>\n",
              "      <td>-0.027075</td>\n",
              "      <td>-0.03204</td>\n",
              "      <td>-0.020969</td>\n",
              "      <td>-0.024214</td>\n",
              "      <td>-0.084153</td>\n",
              "      <td>-0.046929</td>\n",
              "      <td>-0.012105</td>\n",
              "      <td>-0.012105</td>\n",
              "      <td>-0.012105</td>\n",
              "      <td>-0.01712</td>\n",
              "      <td>-0.020969</td>\n",
              "      <td>-0.012105</td>\n",
              "      <td>-0.034254</td>\n",
              "      <td>-0.034254</td>\n",
              "      <td>-0.012105</td>\n",
              "      <td>-0.012105</td>\n",
              "      <td>-0.024214</td>\n",
              "      <td>-0.01712</td>\n",
              "      <td>-0.012105</td>\n",
              "      <td>-0.012105</td>\n",
              "      <td>-0.01712</td>\n",
              "      <td>-0.029661</td>\n",
              "      <td>-0.024214</td>\n",
              "      <td>-0.034254</td>\n",
              "      <td>-0.012105</td>\n",
              "      <td>-0.020969</td>\n",
              "      <td>-0.043682</td>\n",
              "      <td>-0.012105</td>\n",
              "      <td>-0.012105</td>\n",
              "      <td>-0.01712</td>\n",
              "      <td>-0.012105</td>\n",
              "      <td>-0.012105</td>\n",
              "      <td>1.509226</td>\n",
              "      <td>-0.397162</td>\n",
              "      <td>-0.012105</td>\n",
              "      <td>-0.515485</td>\n",
              "      <td>-0.012105</td>\n",
              "      <td>-0.730971</td>\n",
              "    </tr>\n",
              "    <tr>\n",
              "      <th>2</th>\n",
              "      <td>0.133743</td>\n",
              "      <td>15.800856</td>\n",
              "      <td>12.956315</td>\n",
              "      <td>11.884655</td>\n",
              "      <td>0.845647</td>\n",
              "      <td>2.292368</td>\n",
              "      <td>0.909519</td>\n",
              "      <td>-0.15243</td>\n",
              "      <td>-0.045334</td>\n",
              "      <td>-0.270063</td>\n",
              "      <td>-0.189656</td>\n",
              "      <td>-0.231777</td>\n",
              "      <td>-0.324695</td>\n",
              "      <td>-0.149895</td>\n",
              "      <td>-0.44777</td>\n",
              "      <td>-0.356319</td>\n",
              "      <td>-0.190483</td>\n",
              "      <td>-0.246165</td>\n",
              "      <td>-0.132631</td>\n",
              "      <td>3.639573</td>\n",
              "      <td>-0.114938</td>\n",
              "      <td>-0.37917</td>\n",
              "      <td>-0.300404</td>\n",
              "      <td>-0.154431</td>\n",
              "      <td>-0.560105</td>\n",
              "      <td>-0.194169</td>\n",
              "      <td>-0.242123</td>\n",
              "      <td>-0.244150</td>\n",
              "      <td>-0.250487</td>\n",
              "      <td>-0.132631</td>\n",
              "      <td>3.278020</td>\n",
              "      <td>-0.341257</td>\n",
              "      <td>-0.380685</td>\n",
              "      <td>-0.213283</td>\n",
              "      <td>-0.400370</td>\n",
              "      <td>-0.201761</td>\n",
              "      <td>-0.012105</td>\n",
              "      <td>-0.01712</td>\n",
              "      <td>-0.012105</td>\n",
              "      <td>-0.046929</td>\n",
              "      <td>...</td>\n",
              "      <td>-0.012105</td>\n",
              "      <td>-0.012105</td>\n",
              "      <td>-0.027075</td>\n",
              "      <td>-0.03204</td>\n",
              "      <td>-0.020969</td>\n",
              "      <td>-0.024214</td>\n",
              "      <td>-0.084153</td>\n",
              "      <td>-0.046929</td>\n",
              "      <td>-0.012105</td>\n",
              "      <td>-0.012105</td>\n",
              "      <td>-0.012105</td>\n",
              "      <td>-0.01712</td>\n",
              "      <td>-0.020969</td>\n",
              "      <td>-0.012105</td>\n",
              "      <td>-0.034254</td>\n",
              "      <td>-0.034254</td>\n",
              "      <td>-0.012105</td>\n",
              "      <td>-0.012105</td>\n",
              "      <td>-0.024214</td>\n",
              "      <td>-0.01712</td>\n",
              "      <td>-0.012105</td>\n",
              "      <td>-0.012105</td>\n",
              "      <td>-0.01712</td>\n",
              "      <td>-0.029661</td>\n",
              "      <td>-0.024214</td>\n",
              "      <td>-0.034254</td>\n",
              "      <td>-0.012105</td>\n",
              "      <td>-0.020969</td>\n",
              "      <td>-0.043682</td>\n",
              "      <td>-0.012105</td>\n",
              "      <td>-0.012105</td>\n",
              "      <td>-0.01712</td>\n",
              "      <td>-0.012105</td>\n",
              "      <td>-0.012105</td>\n",
              "      <td>1.509226</td>\n",
              "      <td>-0.397162</td>\n",
              "      <td>-0.012105</td>\n",
              "      <td>-0.515485</td>\n",
              "      <td>-0.012105</td>\n",
              "      <td>-0.730971</td>\n",
              "    </tr>\n",
              "    <tr>\n",
              "      <th>3</th>\n",
              "      <td>0.371202</td>\n",
              "      <td>15.728496</td>\n",
              "      <td>11.182831</td>\n",
              "      <td>10.624793</td>\n",
              "      <td>0.701436</td>\n",
              "      <td>2.292368</td>\n",
              "      <td>0.029412</td>\n",
              "      <td>-0.15243</td>\n",
              "      <td>-0.045334</td>\n",
              "      <td>-0.270063</td>\n",
              "      <td>-0.189656</td>\n",
              "      <td>-0.231777</td>\n",
              "      <td>-0.324695</td>\n",
              "      <td>-0.149895</td>\n",
              "      <td>-0.44777</td>\n",
              "      <td>-0.356319</td>\n",
              "      <td>-0.190483</td>\n",
              "      <td>-0.246165</td>\n",
              "      <td>-0.132631</td>\n",
              "      <td>3.639573</td>\n",
              "      <td>-0.114938</td>\n",
              "      <td>-0.37917</td>\n",
              "      <td>-0.300404</td>\n",
              "      <td>-0.154431</td>\n",
              "      <td>-0.560105</td>\n",
              "      <td>-0.194169</td>\n",
              "      <td>-0.242123</td>\n",
              "      <td>-0.244150</td>\n",
              "      <td>-0.250487</td>\n",
              "      <td>-0.132631</td>\n",
              "      <td>-0.305018</td>\n",
              "      <td>-0.341257</td>\n",
              "      <td>-0.380685</td>\n",
              "      <td>-0.213283</td>\n",
              "      <td>2.497324</td>\n",
              "      <td>-0.201761</td>\n",
              "      <td>-0.012105</td>\n",
              "      <td>-0.01712</td>\n",
              "      <td>-0.012105</td>\n",
              "      <td>-0.046929</td>\n",
              "      <td>...</td>\n",
              "      <td>-0.012105</td>\n",
              "      <td>-0.012105</td>\n",
              "      <td>-0.027075</td>\n",
              "      <td>-0.03204</td>\n",
              "      <td>-0.020969</td>\n",
              "      <td>-0.024214</td>\n",
              "      <td>-0.084153</td>\n",
              "      <td>-0.046929</td>\n",
              "      <td>-0.012105</td>\n",
              "      <td>-0.012105</td>\n",
              "      <td>-0.012105</td>\n",
              "      <td>-0.01712</td>\n",
              "      <td>-0.020969</td>\n",
              "      <td>-0.012105</td>\n",
              "      <td>-0.034254</td>\n",
              "      <td>-0.034254</td>\n",
              "      <td>-0.012105</td>\n",
              "      <td>-0.012105</td>\n",
              "      <td>-0.024214</td>\n",
              "      <td>-0.01712</td>\n",
              "      <td>-0.012105</td>\n",
              "      <td>-0.012105</td>\n",
              "      <td>-0.01712</td>\n",
              "      <td>-0.029661</td>\n",
              "      <td>-0.024214</td>\n",
              "      <td>-0.034254</td>\n",
              "      <td>-0.012105</td>\n",
              "      <td>-0.020969</td>\n",
              "      <td>-0.043682</td>\n",
              "      <td>-0.012105</td>\n",
              "      <td>-0.012105</td>\n",
              "      <td>-0.01712</td>\n",
              "      <td>-0.012105</td>\n",
              "      <td>-0.012105</td>\n",
              "      <td>1.509226</td>\n",
              "      <td>-0.397162</td>\n",
              "      <td>-0.012105</td>\n",
              "      <td>-0.515485</td>\n",
              "      <td>-0.012105</td>\n",
              "      <td>-0.730971</td>\n",
              "    </tr>\n",
              "    <tr>\n",
              "      <th>6</th>\n",
              "      <td>-0.341176</td>\n",
              "      <td>11.252514</td>\n",
              "      <td>22.380122</td>\n",
              "      <td>10.365410</td>\n",
              "      <td>1.350385</td>\n",
              "      <td>1.876225</td>\n",
              "      <td>0.436270</td>\n",
              "      <td>-0.15243</td>\n",
              "      <td>-0.045334</td>\n",
              "      <td>3.702302</td>\n",
              "      <td>-0.189656</td>\n",
              "      <td>-0.231777</td>\n",
              "      <td>-0.324695</td>\n",
              "      <td>-0.149895</td>\n",
              "      <td>-0.44777</td>\n",
              "      <td>-0.356319</td>\n",
              "      <td>-0.190483</td>\n",
              "      <td>-0.246165</td>\n",
              "      <td>-0.132631</td>\n",
              "      <td>-0.274717</td>\n",
              "      <td>-0.114938</td>\n",
              "      <td>-0.37917</td>\n",
              "      <td>-0.300404</td>\n",
              "      <td>-0.154431</td>\n",
              "      <td>-0.560105</td>\n",
              "      <td>-0.194169</td>\n",
              "      <td>-0.242123</td>\n",
              "      <td>-0.244150</td>\n",
              "      <td>3.991635</td>\n",
              "      <td>-0.132631</td>\n",
              "      <td>-0.305018</td>\n",
              "      <td>-0.341257</td>\n",
              "      <td>-0.380685</td>\n",
              "      <td>-0.213283</td>\n",
              "      <td>-0.400370</td>\n",
              "      <td>-0.201761</td>\n",
              "      <td>-0.012105</td>\n",
              "      <td>-0.01712</td>\n",
              "      <td>-0.012105</td>\n",
              "      <td>-0.046929</td>\n",
              "      <td>...</td>\n",
              "      <td>-0.012105</td>\n",
              "      <td>-0.012105</td>\n",
              "      <td>-0.027075</td>\n",
              "      <td>-0.03204</td>\n",
              "      <td>-0.020969</td>\n",
              "      <td>-0.024214</td>\n",
              "      <td>-0.084153</td>\n",
              "      <td>-0.046929</td>\n",
              "      <td>-0.012105</td>\n",
              "      <td>-0.012105</td>\n",
              "      <td>-0.012105</td>\n",
              "      <td>-0.01712</td>\n",
              "      <td>-0.020969</td>\n",
              "      <td>-0.012105</td>\n",
              "      <td>-0.034254</td>\n",
              "      <td>-0.034254</td>\n",
              "      <td>-0.012105</td>\n",
              "      <td>-0.012105</td>\n",
              "      <td>-0.024214</td>\n",
              "      <td>-0.01712</td>\n",
              "      <td>-0.012105</td>\n",
              "      <td>-0.012105</td>\n",
              "      <td>-0.01712</td>\n",
              "      <td>-0.029661</td>\n",
              "      <td>-0.024214</td>\n",
              "      <td>-0.034254</td>\n",
              "      <td>-0.012105</td>\n",
              "      <td>-0.020969</td>\n",
              "      <td>-0.043682</td>\n",
              "      <td>-0.012105</td>\n",
              "      <td>-0.012105</td>\n",
              "      <td>-0.01712</td>\n",
              "      <td>-0.012105</td>\n",
              "      <td>-0.012105</td>\n",
              "      <td>1.509226</td>\n",
              "      <td>-0.397162</td>\n",
              "      <td>-0.012105</td>\n",
              "      <td>-0.515485</td>\n",
              "      <td>-0.012105</td>\n",
              "      <td>-0.730971</td>\n",
              "    </tr>\n",
              "    <tr>\n",
              "      <th>7</th>\n",
              "      <td>-0.341176</td>\n",
              "      <td>14.022868</td>\n",
              "      <td>9.965734</td>\n",
              "      <td>10.217191</td>\n",
              "      <td>-0.884885</td>\n",
              "      <td>0.627797</td>\n",
              "      <td>-0.077835</td>\n",
              "      <td>-0.15243</td>\n",
              "      <td>-0.045334</td>\n",
              "      <td>-0.270063</td>\n",
              "      <td>-0.189656</td>\n",
              "      <td>-0.231777</td>\n",
              "      <td>-0.324695</td>\n",
              "      <td>-0.149895</td>\n",
              "      <td>-0.44777</td>\n",
              "      <td>-0.356319</td>\n",
              "      <td>-0.190483</td>\n",
              "      <td>-0.246165</td>\n",
              "      <td>-0.132631</td>\n",
              "      <td>3.639573</td>\n",
              "      <td>-0.114938</td>\n",
              "      <td>-0.37917</td>\n",
              "      <td>-0.300404</td>\n",
              "      <td>-0.154431</td>\n",
              "      <td>-0.560105</td>\n",
              "      <td>-0.194169</td>\n",
              "      <td>-0.242123</td>\n",
              "      <td>4.095239</td>\n",
              "      <td>-0.250487</td>\n",
              "      <td>-0.132631</td>\n",
              "      <td>-0.305018</td>\n",
              "      <td>-0.341257</td>\n",
              "      <td>-0.380685</td>\n",
              "      <td>-0.213283</td>\n",
              "      <td>-0.400370</td>\n",
              "      <td>-0.201761</td>\n",
              "      <td>-0.012105</td>\n",
              "      <td>-0.01712</td>\n",
              "      <td>-0.012105</td>\n",
              "      <td>-0.046929</td>\n",
              "      <td>...</td>\n",
              "      <td>-0.012105</td>\n",
              "      <td>-0.012105</td>\n",
              "      <td>-0.027075</td>\n",
              "      <td>-0.03204</td>\n",
              "      <td>-0.020969</td>\n",
              "      <td>-0.024214</td>\n",
              "      <td>-0.084153</td>\n",
              "      <td>-0.046929</td>\n",
              "      <td>-0.012105</td>\n",
              "      <td>-0.012105</td>\n",
              "      <td>-0.012105</td>\n",
              "      <td>-0.01712</td>\n",
              "      <td>-0.020969</td>\n",
              "      <td>-0.012105</td>\n",
              "      <td>-0.034254</td>\n",
              "      <td>-0.034254</td>\n",
              "      <td>-0.012105</td>\n",
              "      <td>-0.012105</td>\n",
              "      <td>-0.024214</td>\n",
              "      <td>-0.01712</td>\n",
              "      <td>-0.012105</td>\n",
              "      <td>-0.012105</td>\n",
              "      <td>-0.01712</td>\n",
              "      <td>-0.029661</td>\n",
              "      <td>-0.024214</td>\n",
              "      <td>-0.034254</td>\n",
              "      <td>-0.012105</td>\n",
              "      <td>-0.020969</td>\n",
              "      <td>-0.043682</td>\n",
              "      <td>-0.012105</td>\n",
              "      <td>-0.012105</td>\n",
              "      <td>-0.01712</td>\n",
              "      <td>-0.012105</td>\n",
              "      <td>-0.012105</td>\n",
              "      <td>1.509226</td>\n",
              "      <td>-0.397162</td>\n",
              "      <td>-0.012105</td>\n",
              "      <td>-0.515485</td>\n",
              "      <td>-0.012105</td>\n",
              "      <td>-0.730971</td>\n",
              "    </tr>\n",
              "  </tbody>\n",
              "</table>\n",
              "<p>5 rows × 1683 columns</p>\n",
              "</div>"
            ],
            "text/plain": [
              "   Year_of_Release   NA_Sales   JP_Sales  ...  Rating_M  Rating_RP  Rating_T\n",
              "0        -0.341176  42.346639  12.886767  ... -0.515485  -0.012105 -0.730971\n",
              "2         0.133743  15.800856  12.956315  ... -0.515485  -0.012105 -0.730971\n",
              "3         0.371202  15.728496  11.182831  ... -0.515485  -0.012105 -0.730971\n",
              "6        -0.341176  11.252514  22.380122  ... -0.515485  -0.012105 -0.730971\n",
              "7        -0.341176  14.022868   9.965734  ... -0.515485  -0.012105 -0.730971\n",
              "\n",
              "[5 rows x 1683 columns]"
            ]
          },
          "metadata": {
            "tags": []
          },
          "execution_count": 29
        }
      ]
    },
    {
      "cell_type": "code",
      "metadata": {
        "id": "1CApaqjytYsE",
        "colab": {
          "base_uri": "https://localhost:8080/",
          "height": 85
        },
        "outputId": "add8a5ad-478a-4335-d833-3d78c5967c09"
      },
      "source": [
        "# Split the data to train and test with ratio of 80/20 for train/test respectively\n",
        "X_reg_train, X_reg_test, y_reg_train, y_reg_test = train_test_split(X_reg, y_reg, test_size=0.20)\n",
        "print(X_reg_train.shape)\n",
        "print(y_reg_train.shape)\n",
        "print(X_reg_test.shape)\n",
        "print(y_reg_test.shape)"
      ],
      "execution_count": null,
      "outputs": [
        {
          "output_type": "stream",
          "text": [
            "(5460, 1683)\n",
            "(5460,)\n",
            "(1365, 1683)\n",
            "(1365,)\n"
          ],
          "name": "stdout"
        }
      ]
    },
    {
      "cell_type": "markdown",
      "metadata": {
        "id": "H5UpjVGItYsG"
      },
      "source": [
        "### Building NN for Regression"
      ]
    },
    {
      "cell_type": "markdown",
      "metadata": {
        "id": "pCNwsUsBtYsH"
      },
      "source": [
        "> You are recommended to try different architectures (different number of hidden layers and neurons) to get the desired loss. You may start with a couple of hidden layers and a few neurons and add accordingly until you hit below the maximum acceptable loss."
      ]
    },
    {
      "cell_type": "code",
      "metadata": {
        "id": "2t6QelWgtYsH"
      },
      "source": [
        "# Build a sequential NN with appropriate layers for regression to predict EU_Sales\n",
        "# Use ReLU for all hidden layers\n",
        "\n",
        "layer_1 = tf.keras.layers.Dense(units=500, input_shape=[1683], activation='relu')\n",
        "layer_2 = tf.keras.layers.Dense(30, activation='relu')\n",
        "layer_3 = tf.keras.layers.Dense(20, activation='relu')\n",
        "layer_4 = tf.keras.layers.Dense(10, activation='relu')\n",
        "layer_5 = tf.keras.layers.Dense(1, activation='relu')\n",
        "nn_reg = tf.keras.Sequential([\n",
        "    # Add layers accordingly\n",
        "    layer_1, layer_2, layer_3, layer_4, layer_5\n",
        "    ])"
      ],
      "execution_count": null,
      "outputs": []
    },
    {
      "cell_type": "code",
      "metadata": {
        "id": "ARuIGJqptYsK",
        "colab": {
          "base_uri": "https://localhost:8080/",
          "height": 323
        },
        "outputId": "da85b209-9b84-422c-9962-754ef98582af"
      },
      "source": [
        "nn_reg.summary()"
      ],
      "execution_count": null,
      "outputs": [
        {
          "output_type": "stream",
          "text": [
            "Model: \"sequential_1\"\n",
            "_________________________________________________________________\n",
            "Layer (type)                 Output Shape              Param #   \n",
            "=================================================================\n",
            "dense_1 (Dense)              (None, 500)               842000    \n",
            "_________________________________________________________________\n",
            "dense_2 (Dense)              (None, 30)                15030     \n",
            "_________________________________________________________________\n",
            "dense_3 (Dense)              (None, 20)                620       \n",
            "_________________________________________________________________\n",
            "dense_4 (Dense)              (None, 10)                210       \n",
            "_________________________________________________________________\n",
            "dense_5 (Dense)              (None, 1)                 11        \n",
            "=================================================================\n",
            "Total params: 857,871\n",
            "Trainable params: 857,871\n",
            "Non-trainable params: 0\n",
            "_________________________________________________________________\n"
          ],
          "name": "stdout"
        }
      ]
    },
    {
      "cell_type": "code",
      "metadata": {
        "id": "BU21HU4CtYsM"
      },
      "source": [
        "# Compile nn_reg: set both loss and metric to 'mse',\n",
        "# and set the optimizer to 'RMSprop' with a learning rate of 0.001\n",
        "\n",
        "# For this regression task, loss and metrics are the same\n",
        "nn_reg.compile(optimizer=keras.optimizers.RMSprop(learning_rate=0.001), loss='mse', metrics=['mse'])\n",
        "#opt = tf.keras.optimizers.RMSprop(learning_rate=0.001)\n",
        "#nn_reg.compile(optimizer=, loss='mse', metrics=['mse'])"
      ],
      "execution_count": null,
      "outputs": []
    },
    {
      "cell_type": "code",
      "metadata": {
        "id": "Ceo4kkoItYsP",
        "colab": {
          "base_uri": "https://localhost:8080/",
          "height": 697
        },
        "outputId": "9b8cc05e-4965-4ed8-a27f-336f9af9884c"
      },
      "source": [
        "# Fit the network on X_reg_train and y_reg_train with 20 epochs\n",
        "nn_reg_history = nn_reg.fit(X_reg_train, y_reg_train, epochs=20)"
      ],
      "execution_count": null,
      "outputs": [
        {
          "output_type": "stream",
          "text": [
            "Epoch 1/20\n",
            "171/171 [==============================] - 2s 10ms/step - loss: 0.2013 - mse: 0.2013\n",
            "Epoch 2/20\n",
            "171/171 [==============================] - 2s 9ms/step - loss: 0.1298 - mse: 0.1298\n",
            "Epoch 3/20\n",
            "171/171 [==============================] - 2s 9ms/step - loss: 0.1273 - mse: 0.1273\n",
            "Epoch 4/20\n",
            "171/171 [==============================] - 2s 9ms/step - loss: 0.0943 - mse: 0.0943\n",
            "Epoch 5/20\n",
            "171/171 [==============================] - 2s 9ms/step - loss: 0.0991 - mse: 0.0991\n",
            "Epoch 6/20\n",
            "171/171 [==============================] - 2s 9ms/step - loss: 0.0798 - mse: 0.0798\n",
            "Epoch 7/20\n",
            "171/171 [==============================] - 2s 9ms/step - loss: 0.0779 - mse: 0.0779\n",
            "Epoch 8/20\n",
            "171/171 [==============================] - 2s 9ms/step - loss: 0.0699 - mse: 0.0699\n",
            "Epoch 9/20\n",
            "171/171 [==============================] - 2s 9ms/step - loss: 0.0662 - mse: 0.0662\n",
            "Epoch 10/20\n",
            "171/171 [==============================] - 2s 9ms/step - loss: 0.0621 - mse: 0.0621\n",
            "Epoch 11/20\n",
            "171/171 [==============================] - 2s 9ms/step - loss: 0.0490 - mse: 0.0490\n",
            "Epoch 12/20\n",
            "171/171 [==============================] - 2s 9ms/step - loss: 0.0536 - mse: 0.0536\n",
            "Epoch 13/20\n",
            "171/171 [==============================] - 2s 10ms/step - loss: 0.0479 - mse: 0.0479\n",
            "Epoch 14/20\n",
            "171/171 [==============================] - 2s 9ms/step - loss: 0.0275 - mse: 0.0275\n",
            "Epoch 15/20\n",
            "171/171 [==============================] - 2s 9ms/step - loss: 0.0396 - mse: 0.0396\n",
            "Epoch 16/20\n",
            "171/171 [==============================] - 2s 10ms/step - loss: 0.0356 - mse: 0.0356\n",
            "Epoch 17/20\n",
            "171/171 [==============================] - 2s 10ms/step - loss: 0.0323 - mse: 0.0323\n",
            "Epoch 18/20\n",
            "171/171 [==============================] - 2s 9ms/step - loss: 0.0226 - mse: 0.0226\n",
            "Epoch 19/20\n",
            "171/171 [==============================] - 2s 9ms/step - loss: 0.0203 - mse: 0.0203\n",
            "Epoch 20/20\n",
            "171/171 [==============================] - 2s 9ms/step - loss: 0.0228 - mse: 0.0228\n"
          ],
          "name": "stdout"
        }
      ]
    },
    {
      "cell_type": "code",
      "metadata": {
        "id": "bzNMVX2-tYsR",
        "colab": {
          "base_uri": "https://localhost:8080/",
          "height": 341
        },
        "outputId": "8004d916-2d9f-48f0-cb2e-71b3f21bbc56"
      },
      "source": [
        "pd.DataFrame(nn_reg_history.history).plot(figsize=(10, 5))\n",
        "plt.grid(True)\n",
        "\n",
        "# Set the xticks - label locations\n",
        "plt.xticks(np.arange(0, 20, step=2))  \n",
        "\n",
        "# set the y-axis range to [0-1]\n",
        "plt.gca().set_ylim(0, 1) "
      ],
      "execution_count": null,
      "outputs": [
        {
          "output_type": "execute_result",
          "data": {
            "text/plain": [
              "(0.0, 1.0)"
            ]
          },
          "metadata": {
            "tags": []
          },
          "execution_count": 35
        },
        {
          "output_type": "display_data",
          "data": {
            "image/png": "[encoded data removed]",
            "text/plain": [
              "<Figure size 720x360 with 1 Axes>"
            ]
          },
          "metadata": {
            "tags": [],
            "needs_background": "light"
          }
        }
      ]
    },
    {
      "cell_type": "markdown",
      "metadata": {
        "id": "qQY3GPzntYsT"
      },
      "source": [
        "> <font color='red'>**Maximum Acceptable MSE Loss Requirement**</font>: The MSE loss of your model evaluated on `X_reg_test` and `y_reg_test` should not exceed **0.20**. Otherwise, your notebook will get NO CREDIT for this part, so you must fine-tune your `nn_reg` accordingly."
      ]
    },
    {
      "cell_type": "code",
      "metadata": {
        "id": "SlRydMWJtYsT",
        "colab": {
          "base_uri": "https://localhost:8080/",
          "height": 34
        },
        "outputId": "eafe6918-4037-45ab-f213-d421ac478768"
      },
      "source": [
        "# Evaluate the model on X_reg_test, y_reg_test\n",
        "mse, mse = nn_reg.evaluate(X_reg_test, y_reg_test)"
      ],
      "execution_count": null,
      "outputs": [
        {
          "output_type": "stream",
          "text": [
            "43/43 [==============================] - 0s 3ms/step - loss: 0.1426 - mse: 0.1426\n"
          ],
          "name": "stdout"
        }
      ]
    },
    {
      "cell_type": "code",
      "metadata": {
        "id": "GkoG_-DwtYsV",
        "colab": {
          "base_uri": "https://localhost:8080/",
          "height": 34
        },
        "outputId": "ca785634-9e73-4383-afda-c1214a9cc03e"
      },
      "source": [
        "# Maximum acceptable mse loss: 0.20\n",
        "round(mse, 2)"
      ],
      "execution_count": null,
      "outputs": [
        {
          "output_type": "execute_result",
          "data": {
            "text/plain": [
              "0.14"
            ]
          },
          "metadata": {
            "tags": []
          },
          "execution_count": 37
        }
      ]
    }
  ]
}
